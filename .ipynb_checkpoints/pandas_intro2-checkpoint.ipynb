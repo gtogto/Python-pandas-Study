{
  "cells": [
    {
      "metadata": {
        "trusted": false
      },
      "cell_type": "code",
      "source": "import pandas as pd  ## 고수준 데이터 모델 (DataFrame) 모듈 pandas\nc1 = pd.read_csv('class1.csv')\nc2 = pd.read_csv('class2.csv')\n",
      "execution_count": 1,
      "outputs": []
    },
    {
      "metadata": {
        "trusted": false
      },
      "cell_type": "code",
      "source": "c1",
      "execution_count": 2,
      "outputs": [
        {
          "data": {
            "text/html": "<div>\n<style>\n    .dataframe thead tr:only-child th {\n        text-align: right;\n    }\n\n    .dataframe thead th {\n        text-align: left;\n    }\n\n    .dataframe tbody tr th {\n        vertical-align: top;\n    }\n</style>\n<table border=\"1\" class=\"dataframe\">\n  <thead>\n    <tr style=\"text-align: right;\">\n      <th></th>\n      <th>번호</th>\n      <th>이름</th>\n      <th>국어</th>\n      <th>영어</th>\n      <th>수학</th>\n      <th>과학</th>\n    </tr>\n  </thead>\n  <tbody>\n    <tr>\n      <th>0</th>\n      <td>1</td>\n      <td>한돌</td>\n      <td>67</td>\n      <td>87</td>\n      <td>90</td>\n      <td>98</td>\n    </tr>\n    <tr>\n      <th>1</th>\n      <td>2</td>\n      <td>김신</td>\n      <td>45</td>\n      <td>45</td>\n      <td>56</td>\n      <td>98</td>\n    </tr>\n    <tr>\n      <th>2</th>\n      <td>4</td>\n      <td>이영호</td>\n      <td>95</td>\n      <td>59</td>\n      <td>96</td>\n      <td>88</td>\n    </tr>\n    <tr>\n      <th>3</th>\n      <td>4</td>\n      <td>박호일</td>\n      <td>65</td>\n      <td>94</td>\n      <td>89</td>\n      <td>98</td>\n    </tr>\n    <tr>\n      <th>4</th>\n      <td>5</td>\n      <td>조영구</td>\n      <td>45</td>\n      <td>65</td>\n      <td>78</td>\n      <td>98</td>\n    </tr>\n    <tr>\n      <th>5</th>\n      <td>6</td>\n      <td>장호일</td>\n      <td>78</td>\n      <td>76</td>\n      <td>98</td>\n      <td>89</td>\n    </tr>\n  </tbody>\n</table>\n</div>",
            "text/plain": "   번호   이름  국어  영어  수학  과학\n0   1   한돌  67  87  90  98\n1   2   김신  45  45  56  98\n2   4  이영호  95  59  96  88\n3   4  박호일  65  94  89  98\n4   5  조영구  45  65  78  98\n5   6  장호일  78  76  98  89"
          },
          "execution_count": 2,
          "metadata": {},
          "output_type": "execute_result"
        }
      ]
    },
    {
      "metadata": {
        "trusted": false
      },
      "cell_type": "code",
      "source": "c2",
      "execution_count": 3,
      "outputs": [
        {
          "data": {
            "text/html": "<div>\n<style>\n    .dataframe thead tr:only-child th {\n        text-align: right;\n    }\n\n    .dataframe thead th {\n        text-align: left;\n    }\n\n    .dataframe tbody tr th {\n        vertical-align: top;\n    }\n</style>\n<table border=\"1\" class=\"dataframe\">\n  <thead>\n    <tr style=\"text-align: right;\">\n      <th></th>\n      <th>번호</th>\n      <th>이름</th>\n      <th>국어</th>\n      <th>영어</th>\n      <th>수학</th>\n      <th>과학</th>\n    </tr>\n  </thead>\n  <tbody>\n    <tr>\n      <th>0</th>\n      <td>1</td>\n      <td>강교석</td>\n      <td>87</td>\n      <td>67</td>\n      <td>65</td>\n      <td>56</td>\n    </tr>\n    <tr>\n      <th>1</th>\n      <td>2</td>\n      <td>황유찬</td>\n      <td>89</td>\n      <td>98</td>\n      <td>78</td>\n      <td>78</td>\n    </tr>\n    <tr>\n      <th>2</th>\n      <td>3</td>\n      <td>유지명</td>\n      <td>100</td>\n      <td>78</td>\n      <td>56</td>\n      <td>65</td>\n    </tr>\n    <tr>\n      <th>3</th>\n      <td>4</td>\n      <td>송성필</td>\n      <td>99</td>\n      <td>89</td>\n      <td>87</td>\n      <td>87</td>\n    </tr>\n    <tr>\n      <th>4</th>\n      <td>5</td>\n      <td>주영훈</td>\n      <td>98</td>\n      <td>45</td>\n      <td>56</td>\n      <td>54</td>\n    </tr>\n    <tr>\n      <th>5</th>\n      <td>6</td>\n      <td>변정수</td>\n      <td>65</td>\n      <td>89</td>\n      <td>87</td>\n      <td>78</td>\n    </tr>\n  </tbody>\n</table>\n</div>",
            "text/plain": "   번호   이름   국어  영어  수학  과학\n0   1  강교석   87  67  65  56\n1   2  황유찬   89  98  78  78\n2   3  유지명  100  78  56  65\n3   4  송성필   99  89  87  87\n4   5  주영훈   98  45  56  54\n5   6  변정수   65  89  87  78"
          },
          "execution_count": 3,
          "metadata": {},
          "output_type": "execute_result"
        }
      ]
    },
    {
      "metadata": {
        "trusted": false
      },
      "cell_type": "code",
      "source": "c1.수학.max(), c1.수학.mean()",
      "execution_count": 4,
      "outputs": [
        {
          "data": {
            "text/plain": "(98, 84.5)"
          },
          "execution_count": 4,
          "metadata": {},
          "output_type": "execute_result"
        }
      ]
    },
    {
      "metadata": {
        "trusted": false
      },
      "cell_type": "code",
      "source": "c2.수학.max(), c2.수학.mean()",
      "execution_count": 5,
      "outputs": [
        {
          "data": {
            "text/plain": "(87, 71.5)"
          },
          "execution_count": 5,
          "metadata": {},
          "output_type": "execute_result"
        }
      ]
    },
    {
      "metadata": {
        "trusted": false
      },
      "cell_type": "code",
      "source": "SUBJ = ['국어', '영어', '수학', '과학']",
      "execution_count": 6,
      "outputs": []
    },
    {
      "metadata": {
        "trusted": false
      },
      "cell_type": "code",
      "source": "for s in SUBJ:\n    if c1[s].mean() > c2[s].mean():\n        print(s, '-->', '1반')\n    else:\n        print(s, '-->', '2반')",
      "execution_count": 7,
      "outputs": [
        {
          "name": "stdout",
          "output_type": "stream",
          "text": "국어 --> 2반\n영어 --> 2반\n수학 --> 1반\n과학 --> 1반\n"
        }
      ]
    },
    {
      "metadata": {
        "trusted": false
      },
      "cell_type": "code",
      "source": "all_c = pd.concat([c1, c2]) # 칼럼 이어붙이기",
      "execution_count": 8,
      "outputs": []
    },
    {
      "metadata": {
        "trusted": false
      },
      "cell_type": "code",
      "source": "all_c\n# index 중복 현상\n    ",
      "execution_count": 9,
      "outputs": [
        {
          "data": {
            "text/html": "<div>\n<style>\n    .dataframe thead tr:only-child th {\n        text-align: right;\n    }\n\n    .dataframe thead th {\n        text-align: left;\n    }\n\n    .dataframe tbody tr th {\n        vertical-align: top;\n    }\n</style>\n<table border=\"1\" class=\"dataframe\">\n  <thead>\n    <tr style=\"text-align: right;\">\n      <th></th>\n      <th>번호</th>\n      <th>이름</th>\n      <th>국어</th>\n      <th>영어</th>\n      <th>수학</th>\n      <th>과학</th>\n    </tr>\n  </thead>\n  <tbody>\n    <tr>\n      <th>0</th>\n      <td>1</td>\n      <td>한돌</td>\n      <td>67</td>\n      <td>87</td>\n      <td>90</td>\n      <td>98</td>\n    </tr>\n    <tr>\n      <th>1</th>\n      <td>2</td>\n      <td>김신</td>\n      <td>45</td>\n      <td>45</td>\n      <td>56</td>\n      <td>98</td>\n    </tr>\n    <tr>\n      <th>2</th>\n      <td>4</td>\n      <td>이영호</td>\n      <td>95</td>\n      <td>59</td>\n      <td>96</td>\n      <td>88</td>\n    </tr>\n    <tr>\n      <th>3</th>\n      <td>4</td>\n      <td>박호일</td>\n      <td>65</td>\n      <td>94</td>\n      <td>89</td>\n      <td>98</td>\n    </tr>\n    <tr>\n      <th>4</th>\n      <td>5</td>\n      <td>조영구</td>\n      <td>45</td>\n      <td>65</td>\n      <td>78</td>\n      <td>98</td>\n    </tr>\n    <tr>\n      <th>5</th>\n      <td>6</td>\n      <td>장호일</td>\n      <td>78</td>\n      <td>76</td>\n      <td>98</td>\n      <td>89</td>\n    </tr>\n    <tr>\n      <th>0</th>\n      <td>1</td>\n      <td>강교석</td>\n      <td>87</td>\n      <td>67</td>\n      <td>65</td>\n      <td>56</td>\n    </tr>\n    <tr>\n      <th>1</th>\n      <td>2</td>\n      <td>황유찬</td>\n      <td>89</td>\n      <td>98</td>\n      <td>78</td>\n      <td>78</td>\n    </tr>\n    <tr>\n      <th>2</th>\n      <td>3</td>\n      <td>유지명</td>\n      <td>100</td>\n      <td>78</td>\n      <td>56</td>\n      <td>65</td>\n    </tr>\n    <tr>\n      <th>3</th>\n      <td>4</td>\n      <td>송성필</td>\n      <td>99</td>\n      <td>89</td>\n      <td>87</td>\n      <td>87</td>\n    </tr>\n    <tr>\n      <th>4</th>\n      <td>5</td>\n      <td>주영훈</td>\n      <td>98</td>\n      <td>45</td>\n      <td>56</td>\n      <td>54</td>\n    </tr>\n    <tr>\n      <th>5</th>\n      <td>6</td>\n      <td>변정수</td>\n      <td>65</td>\n      <td>89</td>\n      <td>87</td>\n      <td>78</td>\n    </tr>\n  </tbody>\n</table>\n</div>",
            "text/plain": "   번호   이름   국어  영어  수학  과학\n0   1   한돌   67  87  90  98\n1   2   김신   45  45  56  98\n2   4  이영호   95  59  96  88\n3   4  박호일   65  94  89  98\n4   5  조영구   45  65  78  98\n5   6  장호일   78  76  98  89\n0   1  강교석   87  67  65  56\n1   2  황유찬   89  98  78  78\n2   3  유지명  100  78  56  65\n3   4  송성필   99  89  87  87\n4   5  주영훈   98  45  56  54\n5   6  변정수   65  89  87  78"
          },
          "execution_count": 9,
          "metadata": {},
          "output_type": "execute_result"
        }
      ]
    },
    {
      "metadata": {
        "trusted": false
      },
      "cell_type": "code",
      "source": "",
      "execution_count": null,
      "outputs": []
    },
    {
      "metadata": {
        "trusted": false
      },
      "cell_type": "code",
      "source": "c1['반'] = 1\nc2['반'] = 2\n# 학급 필드 합침",
      "execution_count": 10,
      "outputs": []
    },
    {
      "metadata": {
        "trusted": false
      },
      "cell_type": "code",
      "source": "c1",
      "execution_count": 11,
      "outputs": [
        {
          "data": {
            "text/html": "<div>\n<style>\n    .dataframe thead tr:only-child th {\n        text-align: right;\n    }\n\n    .dataframe thead th {\n        text-align: left;\n    }\n\n    .dataframe tbody tr th {\n        vertical-align: top;\n    }\n</style>\n<table border=\"1\" class=\"dataframe\">\n  <thead>\n    <tr style=\"text-align: right;\">\n      <th></th>\n      <th>번호</th>\n      <th>이름</th>\n      <th>국어</th>\n      <th>영어</th>\n      <th>수학</th>\n      <th>과학</th>\n      <th>반</th>\n    </tr>\n  </thead>\n  <tbody>\n    <tr>\n      <th>0</th>\n      <td>1</td>\n      <td>한돌</td>\n      <td>67</td>\n      <td>87</td>\n      <td>90</td>\n      <td>98</td>\n      <td>1</td>\n    </tr>\n    <tr>\n      <th>1</th>\n      <td>2</td>\n      <td>김신</td>\n      <td>45</td>\n      <td>45</td>\n      <td>56</td>\n      <td>98</td>\n      <td>1</td>\n    </tr>\n    <tr>\n      <th>2</th>\n      <td>4</td>\n      <td>이영호</td>\n      <td>95</td>\n      <td>59</td>\n      <td>96</td>\n      <td>88</td>\n      <td>1</td>\n    </tr>\n    <tr>\n      <th>3</th>\n      <td>4</td>\n      <td>박호일</td>\n      <td>65</td>\n      <td>94</td>\n      <td>89</td>\n      <td>98</td>\n      <td>1</td>\n    </tr>\n    <tr>\n      <th>4</th>\n      <td>5</td>\n      <td>조영구</td>\n      <td>45</td>\n      <td>65</td>\n      <td>78</td>\n      <td>98</td>\n      <td>1</td>\n    </tr>\n    <tr>\n      <th>5</th>\n      <td>6</td>\n      <td>장호일</td>\n      <td>78</td>\n      <td>76</td>\n      <td>98</td>\n      <td>89</td>\n      <td>1</td>\n    </tr>\n  </tbody>\n</table>\n</div>",
            "text/plain": "   번호   이름  국어  영어  수학  과학  반\n0   1   한돌  67  87  90  98  1\n1   2   김신  45  45  56  98  1\n2   4  이영호  95  59  96  88  1\n3   4  박호일  65  94  89  98  1\n4   5  조영구  45  65  78  98  1\n5   6  장호일  78  76  98  89  1"
          },
          "execution_count": 11,
          "metadata": {},
          "output_type": "execute_result"
        }
      ]
    },
    {
      "metadata": {
        "trusted": false
      },
      "cell_type": "code",
      "source": "all_c = pd.concat([c1, c2])\nall_c",
      "execution_count": 12,
      "outputs": [
        {
          "data": {
            "text/html": "<div>\n<style>\n    .dataframe thead tr:only-child th {\n        text-align: right;\n    }\n\n    .dataframe thead th {\n        text-align: left;\n    }\n\n    .dataframe tbody tr th {\n        vertical-align: top;\n    }\n</style>\n<table border=\"1\" class=\"dataframe\">\n  <thead>\n    <tr style=\"text-align: right;\">\n      <th></th>\n      <th>번호</th>\n      <th>이름</th>\n      <th>국어</th>\n      <th>영어</th>\n      <th>수학</th>\n      <th>과학</th>\n      <th>반</th>\n    </tr>\n  </thead>\n  <tbody>\n    <tr>\n      <th>0</th>\n      <td>1</td>\n      <td>한돌</td>\n      <td>67</td>\n      <td>87</td>\n      <td>90</td>\n      <td>98</td>\n      <td>1</td>\n    </tr>\n    <tr>\n      <th>1</th>\n      <td>2</td>\n      <td>김신</td>\n      <td>45</td>\n      <td>45</td>\n      <td>56</td>\n      <td>98</td>\n      <td>1</td>\n    </tr>\n    <tr>\n      <th>2</th>\n      <td>4</td>\n      <td>이영호</td>\n      <td>95</td>\n      <td>59</td>\n      <td>96</td>\n      <td>88</td>\n      <td>1</td>\n    </tr>\n    <tr>\n      <th>3</th>\n      <td>4</td>\n      <td>박호일</td>\n      <td>65</td>\n      <td>94</td>\n      <td>89</td>\n      <td>98</td>\n      <td>1</td>\n    </tr>\n    <tr>\n      <th>4</th>\n      <td>5</td>\n      <td>조영구</td>\n      <td>45</td>\n      <td>65</td>\n      <td>78</td>\n      <td>98</td>\n      <td>1</td>\n    </tr>\n    <tr>\n      <th>5</th>\n      <td>6</td>\n      <td>장호일</td>\n      <td>78</td>\n      <td>76</td>\n      <td>98</td>\n      <td>89</td>\n      <td>1</td>\n    </tr>\n    <tr>\n      <th>0</th>\n      <td>1</td>\n      <td>강교석</td>\n      <td>87</td>\n      <td>67</td>\n      <td>65</td>\n      <td>56</td>\n      <td>2</td>\n    </tr>\n    <tr>\n      <th>1</th>\n      <td>2</td>\n      <td>황유찬</td>\n      <td>89</td>\n      <td>98</td>\n      <td>78</td>\n      <td>78</td>\n      <td>2</td>\n    </tr>\n    <tr>\n      <th>2</th>\n      <td>3</td>\n      <td>유지명</td>\n      <td>100</td>\n      <td>78</td>\n      <td>56</td>\n      <td>65</td>\n      <td>2</td>\n    </tr>\n    <tr>\n      <th>3</th>\n      <td>4</td>\n      <td>송성필</td>\n      <td>99</td>\n      <td>89</td>\n      <td>87</td>\n      <td>87</td>\n      <td>2</td>\n    </tr>\n    <tr>\n      <th>4</th>\n      <td>5</td>\n      <td>주영훈</td>\n      <td>98</td>\n      <td>45</td>\n      <td>56</td>\n      <td>54</td>\n      <td>2</td>\n    </tr>\n    <tr>\n      <th>5</th>\n      <td>6</td>\n      <td>변정수</td>\n      <td>65</td>\n      <td>89</td>\n      <td>87</td>\n      <td>78</td>\n      <td>2</td>\n    </tr>\n  </tbody>\n</table>\n</div>",
            "text/plain": "   번호   이름   국어  영어  수학  과학  반\n0   1   한돌   67  87  90  98  1\n1   2   김신   45  45  56  98  1\n2   4  이영호   95  59  96  88  1\n3   4  박호일   65  94  89  98  1\n4   5  조영구   45  65  78  98  1\n5   6  장호일   78  76  98  89  1\n0   1  강교석   87  67  65  56  2\n1   2  황유찬   89  98  78  78  2\n2   3  유지명  100  78  56  65  2\n3   4  송성필   99  89  87  87  2\n4   5  주영훈   98  45  56  54  2\n5   6  변정수   65  89  87  78  2"
          },
          "execution_count": 12,
          "metadata": {},
          "output_type": "execute_result"
        }
      ]
    },
    {
      "metadata": {
        "trusted": false
      },
      "cell_type": "code",
      "source": "all_c = pd.concat([c1, c2], ignore_index=True) # index 새로 설정\nall_c",
      "execution_count": 13,
      "outputs": [
        {
          "data": {
            "text/html": "<div>\n<style>\n    .dataframe thead tr:only-child th {\n        text-align: right;\n    }\n\n    .dataframe thead th {\n        text-align: left;\n    }\n\n    .dataframe tbody tr th {\n        vertical-align: top;\n    }\n</style>\n<table border=\"1\" class=\"dataframe\">\n  <thead>\n    <tr style=\"text-align: right;\">\n      <th></th>\n      <th>번호</th>\n      <th>이름</th>\n      <th>국어</th>\n      <th>영어</th>\n      <th>수학</th>\n      <th>과학</th>\n      <th>반</th>\n    </tr>\n  </thead>\n  <tbody>\n    <tr>\n      <th>0</th>\n      <td>1</td>\n      <td>한돌</td>\n      <td>67</td>\n      <td>87</td>\n      <td>90</td>\n      <td>98</td>\n      <td>1</td>\n    </tr>\n    <tr>\n      <th>1</th>\n      <td>2</td>\n      <td>김신</td>\n      <td>45</td>\n      <td>45</td>\n      <td>56</td>\n      <td>98</td>\n      <td>1</td>\n    </tr>\n    <tr>\n      <th>2</th>\n      <td>4</td>\n      <td>이영호</td>\n      <td>95</td>\n      <td>59</td>\n      <td>96</td>\n      <td>88</td>\n      <td>1</td>\n    </tr>\n    <tr>\n      <th>3</th>\n      <td>4</td>\n      <td>박호일</td>\n      <td>65</td>\n      <td>94</td>\n      <td>89</td>\n      <td>98</td>\n      <td>1</td>\n    </tr>\n    <tr>\n      <th>4</th>\n      <td>5</td>\n      <td>조영구</td>\n      <td>45</td>\n      <td>65</td>\n      <td>78</td>\n      <td>98</td>\n      <td>1</td>\n    </tr>\n    <tr>\n      <th>5</th>\n      <td>6</td>\n      <td>장호일</td>\n      <td>78</td>\n      <td>76</td>\n      <td>98</td>\n      <td>89</td>\n      <td>1</td>\n    </tr>\n    <tr>\n      <th>6</th>\n      <td>1</td>\n      <td>강교석</td>\n      <td>87</td>\n      <td>67</td>\n      <td>65</td>\n      <td>56</td>\n      <td>2</td>\n    </tr>\n    <tr>\n      <th>7</th>\n      <td>2</td>\n      <td>황유찬</td>\n      <td>89</td>\n      <td>98</td>\n      <td>78</td>\n      <td>78</td>\n      <td>2</td>\n    </tr>\n    <tr>\n      <th>8</th>\n      <td>3</td>\n      <td>유지명</td>\n      <td>100</td>\n      <td>78</td>\n      <td>56</td>\n      <td>65</td>\n      <td>2</td>\n    </tr>\n    <tr>\n      <th>9</th>\n      <td>4</td>\n      <td>송성필</td>\n      <td>99</td>\n      <td>89</td>\n      <td>87</td>\n      <td>87</td>\n      <td>2</td>\n    </tr>\n    <tr>\n      <th>10</th>\n      <td>5</td>\n      <td>주영훈</td>\n      <td>98</td>\n      <td>45</td>\n      <td>56</td>\n      <td>54</td>\n      <td>2</td>\n    </tr>\n    <tr>\n      <th>11</th>\n      <td>6</td>\n      <td>변정수</td>\n      <td>65</td>\n      <td>89</td>\n      <td>87</td>\n      <td>78</td>\n      <td>2</td>\n    </tr>\n  </tbody>\n</table>\n</div>",
            "text/plain": "    번호   이름   국어  영어  수학  과학  반\n0    1   한돌   67  87  90  98  1\n1    2   김신   45  45  56  98  1\n2    4  이영호   95  59  96  88  1\n3    4  박호일   65  94  89  98  1\n4    5  조영구   45  65  78  98  1\n5    6  장호일   78  76  98  89  1\n6    1  강교석   87  67  65  56  2\n7    2  황유찬   89  98  78  78  2\n8    3  유지명  100  78  56  65  2\n9    4  송성필   99  89  87  87  2\n10   5  주영훈   98  45  56  54  2\n11   6  변정수   65  89  87  78  2"
          },
          "execution_count": 13,
          "metadata": {},
          "output_type": "execute_result"
        }
      ]
    },
    {
      "metadata": {
        "trusted": false
      },
      "cell_type": "code",
      "source": "all_c.영어.describe()",
      "execution_count": 14,
      "outputs": [
        {
          "data": {
            "text/plain": "count    12.000000\nmean     74.333333\nstd      18.217541\nmin      45.000000\n25%      63.500000\n50%      77.000000\n75%      89.000000\nmax      98.000000\nName: 영어, dtype: float64"
          },
          "execution_count": 14,
          "metadata": {},
          "output_type": "execute_result"
        }
      ]
    },
    {
      "metadata": {
        "trusted": false
      },
      "cell_type": "code",
      "source": "# all_c['영어_norm'] = (영어점수 - 영어평균) / 영어표준편차\nall_c['영어_norm'] = (all_c.영어 - all_c.영어.mean()) / all_c.영어.std() # data nomalize x-avrg/sts\nall_c",
      "execution_count": 15,
      "outputs": [
        {
          "data": {
            "text/html": "<div>\n<style>\n    .dataframe thead tr:only-child th {\n        text-align: right;\n    }\n\n    .dataframe thead th {\n        text-align: left;\n    }\n\n    .dataframe tbody tr th {\n        vertical-align: top;\n    }\n</style>\n<table border=\"1\" class=\"dataframe\">\n  <thead>\n    <tr style=\"text-align: right;\">\n      <th></th>\n      <th>번호</th>\n      <th>이름</th>\n      <th>국어</th>\n      <th>영어</th>\n      <th>수학</th>\n      <th>과학</th>\n      <th>반</th>\n      <th>영어_norm</th>\n    </tr>\n  </thead>\n  <tbody>\n    <tr>\n      <th>0</th>\n      <td>1</td>\n      <td>한돌</td>\n      <td>67</td>\n      <td>87</td>\n      <td>90</td>\n      <td>98</td>\n      <td>1</td>\n      <td>0.695301</td>\n    </tr>\n    <tr>\n      <th>1</th>\n      <td>2</td>\n      <td>김신</td>\n      <td>45</td>\n      <td>45</td>\n      <td>56</td>\n      <td>98</td>\n      <td>1</td>\n      <td>-1.610170</td>\n    </tr>\n    <tr>\n      <th>2</th>\n      <td>4</td>\n      <td>이영호</td>\n      <td>95</td>\n      <td>59</td>\n      <td>96</td>\n      <td>88</td>\n      <td>1</td>\n      <td>-0.841680</td>\n    </tr>\n    <tr>\n      <th>3</th>\n      <td>4</td>\n      <td>박호일</td>\n      <td>65</td>\n      <td>94</td>\n      <td>89</td>\n      <td>98</td>\n      <td>1</td>\n      <td>1.079546</td>\n    </tr>\n    <tr>\n      <th>4</th>\n      <td>5</td>\n      <td>조영구</td>\n      <td>45</td>\n      <td>65</td>\n      <td>78</td>\n      <td>98</td>\n      <td>1</td>\n      <td>-0.512327</td>\n    </tr>\n    <tr>\n      <th>5</th>\n      <td>6</td>\n      <td>장호일</td>\n      <td>78</td>\n      <td>76</td>\n      <td>98</td>\n      <td>89</td>\n      <td>1</td>\n      <td>0.091487</td>\n    </tr>\n    <tr>\n      <th>6</th>\n      <td>1</td>\n      <td>강교석</td>\n      <td>87</td>\n      <td>67</td>\n      <td>65</td>\n      <td>56</td>\n      <td>2</td>\n      <td>-0.402542</td>\n    </tr>\n    <tr>\n      <th>7</th>\n      <td>2</td>\n      <td>황유찬</td>\n      <td>89</td>\n      <td>98</td>\n      <td>78</td>\n      <td>78</td>\n      <td>2</td>\n      <td>1.299114</td>\n    </tr>\n    <tr>\n      <th>8</th>\n      <td>3</td>\n      <td>유지명</td>\n      <td>100</td>\n      <td>78</td>\n      <td>56</td>\n      <td>65</td>\n      <td>2</td>\n      <td>0.201271</td>\n    </tr>\n    <tr>\n      <th>9</th>\n      <td>4</td>\n      <td>송성필</td>\n      <td>99</td>\n      <td>89</td>\n      <td>87</td>\n      <td>87</td>\n      <td>2</td>\n      <td>0.805085</td>\n    </tr>\n    <tr>\n      <th>10</th>\n      <td>5</td>\n      <td>주영훈</td>\n      <td>98</td>\n      <td>45</td>\n      <td>56</td>\n      <td>54</td>\n      <td>2</td>\n      <td>-1.610170</td>\n    </tr>\n    <tr>\n      <th>11</th>\n      <td>6</td>\n      <td>변정수</td>\n      <td>65</td>\n      <td>89</td>\n      <td>87</td>\n      <td>78</td>\n      <td>2</td>\n      <td>0.805085</td>\n    </tr>\n  </tbody>\n</table>\n</div>",
            "text/plain": "    번호   이름   국어  영어  수학  과학  반   영어_norm\n0    1   한돌   67  87  90  98  1  0.695301\n1    2   김신   45  45  56  98  1 -1.610170\n2    4  이영호   95  59  96  88  1 -0.841680\n3    4  박호일   65  94  89  98  1  1.079546\n4    5  조영구   45  65  78  98  1 -0.512327\n5    6  장호일   78  76  98  89  1  0.091487\n6    1  강교석   87  67  65  56  2 -0.402542\n7    2  황유찬   89  98  78  78  2  1.299114\n8    3  유지명  100  78  56  65  2  0.201271\n9    4  송성필   99  89  87  87  2  0.805085\n10   5  주영훈   98  45  56  54  2 -1.610170\n11   6  변정수   65  89  87  78  2  0.805085"
          },
          "execution_count": 15,
          "metadata": {},
          "output_type": "execute_result"
        }
      ]
    },
    {
      "metadata": {
        "trusted": false
      },
      "cell_type": "code",
      "source": "all_c['영어_norm2'] = (all_c.영어 - all_c.영어.min()) / \\\n                     (all_c.영어.max() - all_c.영어.min()) # 0과 1사이로 구분 // 하위 0 ~ 상위1\nall_c",
      "execution_count": 18,
      "outputs": [
        {
          "data": {
            "text/html": "<div>\n<style>\n    .dataframe thead tr:only-child th {\n        text-align: right;\n    }\n\n    .dataframe thead th {\n        text-align: left;\n    }\n\n    .dataframe tbody tr th {\n        vertical-align: top;\n    }\n</style>\n<table border=\"1\" class=\"dataframe\">\n  <thead>\n    <tr style=\"text-align: right;\">\n      <th></th>\n      <th>번호</th>\n      <th>이름</th>\n      <th>국어</th>\n      <th>영어</th>\n      <th>수학</th>\n      <th>과학</th>\n      <th>반</th>\n      <th>영어_norm</th>\n      <th>영어_norm2</th>\n    </tr>\n  </thead>\n  <tbody>\n    <tr>\n      <th>0</th>\n      <td>1</td>\n      <td>한돌</td>\n      <td>67</td>\n      <td>87</td>\n      <td>90</td>\n      <td>98</td>\n      <td>1</td>\n      <td>0.695301</td>\n      <td>0.792453</td>\n    </tr>\n    <tr>\n      <th>1</th>\n      <td>2</td>\n      <td>김신</td>\n      <td>45</td>\n      <td>45</td>\n      <td>56</td>\n      <td>98</td>\n      <td>1</td>\n      <td>-1.610170</td>\n      <td>0.000000</td>\n    </tr>\n    <tr>\n      <th>2</th>\n      <td>4</td>\n      <td>이영호</td>\n      <td>95</td>\n      <td>59</td>\n      <td>96</td>\n      <td>88</td>\n      <td>1</td>\n      <td>-0.841680</td>\n      <td>0.264151</td>\n    </tr>\n    <tr>\n      <th>3</th>\n      <td>4</td>\n      <td>박호일</td>\n      <td>65</td>\n      <td>94</td>\n      <td>89</td>\n      <td>98</td>\n      <td>1</td>\n      <td>1.079546</td>\n      <td>0.924528</td>\n    </tr>\n    <tr>\n      <th>4</th>\n      <td>5</td>\n      <td>조영구</td>\n      <td>45</td>\n      <td>65</td>\n      <td>78</td>\n      <td>98</td>\n      <td>1</td>\n      <td>-0.512327</td>\n      <td>0.377358</td>\n    </tr>\n    <tr>\n      <th>5</th>\n      <td>6</td>\n      <td>장호일</td>\n      <td>78</td>\n      <td>76</td>\n      <td>98</td>\n      <td>89</td>\n      <td>1</td>\n      <td>0.091487</td>\n      <td>0.584906</td>\n    </tr>\n    <tr>\n      <th>6</th>\n      <td>1</td>\n      <td>강교석</td>\n      <td>87</td>\n      <td>67</td>\n      <td>65</td>\n      <td>56</td>\n      <td>2</td>\n      <td>-0.402542</td>\n      <td>0.415094</td>\n    </tr>\n    <tr>\n      <th>7</th>\n      <td>2</td>\n      <td>황유찬</td>\n      <td>89</td>\n      <td>98</td>\n      <td>78</td>\n      <td>78</td>\n      <td>2</td>\n      <td>1.299114</td>\n      <td>1.000000</td>\n    </tr>\n    <tr>\n      <th>8</th>\n      <td>3</td>\n      <td>유지명</td>\n      <td>100</td>\n      <td>78</td>\n      <td>56</td>\n      <td>65</td>\n      <td>2</td>\n      <td>0.201271</td>\n      <td>0.622642</td>\n    </tr>\n    <tr>\n      <th>9</th>\n      <td>4</td>\n      <td>송성필</td>\n      <td>99</td>\n      <td>89</td>\n      <td>87</td>\n      <td>87</td>\n      <td>2</td>\n      <td>0.805085</td>\n      <td>0.830189</td>\n    </tr>\n    <tr>\n      <th>10</th>\n      <td>5</td>\n      <td>주영훈</td>\n      <td>98</td>\n      <td>45</td>\n      <td>56</td>\n      <td>54</td>\n      <td>2</td>\n      <td>-1.610170</td>\n      <td>0.000000</td>\n    </tr>\n    <tr>\n      <th>11</th>\n      <td>6</td>\n      <td>변정수</td>\n      <td>65</td>\n      <td>89</td>\n      <td>87</td>\n      <td>78</td>\n      <td>2</td>\n      <td>0.805085</td>\n      <td>0.830189</td>\n    </tr>\n  </tbody>\n</table>\n</div>",
            "text/plain": "    번호   이름   국어  영어  수학  과학  반   영어_norm  영어_norm2\n0    1   한돌   67  87  90  98  1  0.695301  0.792453\n1    2   김신   45  45  56  98  1 -1.610170  0.000000\n2    4  이영호   95  59  96  88  1 -0.841680  0.264151\n3    4  박호일   65  94  89  98  1  1.079546  0.924528\n4    5  조영구   45  65  78  98  1 -0.512327  0.377358\n5    6  장호일   78  76  98  89  1  0.091487  0.584906\n6    1  강교석   87  67  65  56  2 -0.402542  0.415094\n7    2  황유찬   89  98  78  78  2  1.299114  1.000000\n8    3  유지명  100  78  56  65  2  0.201271  0.622642\n9    4  송성필   99  89  87  87  2  0.805085  0.830189\n10   5  주영훈   98  45  56  54  2 -1.610170  0.000000\n11   6  변정수   65  89  87  78  2  0.805085  0.830189"
          },
          "execution_count": 18,
          "metadata": {},
          "output_type": "execute_result"
        }
      ]
    },
    {
      "metadata": {
        "trusted": false
      },
      "cell_type": "code",
      "source": "all_c[all_c.영어 > 90]",
      "execution_count": 14,
      "outputs": [
        {
          "data": {
            "text/html": "<div>\n<style>\n    .dataframe thead tr:only-child th {\n        text-align: right;\n    }\n\n    .dataframe thead th {\n        text-align: left;\n    }\n\n    .dataframe tbody tr th {\n        vertical-align: top;\n    }\n</style>\n<table border=\"1\" class=\"dataframe\">\n  <thead>\n    <tr style=\"text-align: right;\">\n      <th></th>\n      <th>번호</th>\n      <th>이름</th>\n      <th>국어</th>\n      <th>영어</th>\n      <th>수학</th>\n      <th>과학</th>\n      <th>반</th>\n    </tr>\n  </thead>\n  <tbody>\n    <tr>\n      <th>3</th>\n      <td>4</td>\n      <td>박호일</td>\n      <td>65</td>\n      <td>94</td>\n      <td>89</td>\n      <td>98</td>\n      <td>1</td>\n    </tr>\n    <tr>\n      <th>7</th>\n      <td>2</td>\n      <td>황유찬</td>\n      <td>89</td>\n      <td>98</td>\n      <td>78</td>\n      <td>78</td>\n      <td>2</td>\n    </tr>\n  </tbody>\n</table>\n</div>",
            "text/plain": "   번호   이름  국어  영어  수학  과학  반\n3   4  박호일  65  94  89  98  1\n7   2  황유찬  89  98  78  78  2"
          },
          "execution_count": 14,
          "metadata": {},
          "output_type": "execute_result"
        }
      ]
    },
    {
      "metadata": {
        "trusted": false
      },
      "cell_type": "code",
      "source": "all_c[ (all_c.영어 >= 90) & (all_c.수학 >= 80)] # 조건부 괄호",
      "execution_count": 15,
      "outputs": [
        {
          "data": {
            "text/html": "<div>\n<style>\n    .dataframe thead tr:only-child th {\n        text-align: right;\n    }\n\n    .dataframe thead th {\n        text-align: left;\n    }\n\n    .dataframe tbody tr th {\n        vertical-align: top;\n    }\n</style>\n<table border=\"1\" class=\"dataframe\">\n  <thead>\n    <tr style=\"text-align: right;\">\n      <th></th>\n      <th>번호</th>\n      <th>이름</th>\n      <th>국어</th>\n      <th>영어</th>\n      <th>수학</th>\n      <th>과학</th>\n      <th>반</th>\n    </tr>\n  </thead>\n  <tbody>\n    <tr>\n      <th>3</th>\n      <td>4</td>\n      <td>박호일</td>\n      <td>65</td>\n      <td>94</td>\n      <td>89</td>\n      <td>98</td>\n      <td>1</td>\n    </tr>\n  </tbody>\n</table>\n</div>",
            "text/plain": "   번호   이름  국어  영어  수학  과학  반\n3   4  박호일  65  94  89  98  1"
          },
          "execution_count": 15,
          "metadata": {},
          "output_type": "execute_result"
        }
      ]
    },
    {
      "metadata": {
        "trusted": false
      },
      "cell_type": "code",
      "source": "all_c.query('영어 >= 90 & 수학 >= 80')",
      "execution_count": 16,
      "outputs": [
        {
          "data": {
            "text/html": "<div>\n<style>\n    .dataframe thead tr:only-child th {\n        text-align: right;\n    }\n\n    .dataframe thead th {\n        text-align: left;\n    }\n\n    .dataframe tbody tr th {\n        vertical-align: top;\n    }\n</style>\n<table border=\"1\" class=\"dataframe\">\n  <thead>\n    <tr style=\"text-align: right;\">\n      <th></th>\n      <th>번호</th>\n      <th>이름</th>\n      <th>국어</th>\n      <th>영어</th>\n      <th>수학</th>\n      <th>과학</th>\n      <th>반</th>\n    </tr>\n  </thead>\n  <tbody>\n    <tr>\n      <th>3</th>\n      <td>4</td>\n      <td>박호일</td>\n      <td>65</td>\n      <td>94</td>\n      <td>89</td>\n      <td>98</td>\n      <td>1</td>\n    </tr>\n  </tbody>\n</table>\n</div>",
            "text/plain": "   번호   이름  국어  영어  수학  과학  반\n3   4  박호일  65  94  89  98  1"
          },
          "execution_count": 16,
          "metadata": {},
          "output_type": "execute_result"
        }
      ]
    },
    {
      "metadata": {
        "trusted": false
      },
      "cell_type": "code",
      "source": "all_c[all_c['영어'] > 90]",
      "execution_count": 17,
      "outputs": [
        {
          "data": {
            "text/html": "<div>\n<style>\n    .dataframe thead tr:only-child th {\n        text-align: right;\n    }\n\n    .dataframe thead th {\n        text-align: left;\n    }\n\n    .dataframe tbody tr th {\n        vertical-align: top;\n    }\n</style>\n<table border=\"1\" class=\"dataframe\">\n  <thead>\n    <tr style=\"text-align: right;\">\n      <th></th>\n      <th>번호</th>\n      <th>이름</th>\n      <th>국어</th>\n      <th>영어</th>\n      <th>수학</th>\n      <th>과학</th>\n      <th>반</th>\n    </tr>\n  </thead>\n  <tbody>\n    <tr>\n      <th>3</th>\n      <td>4</td>\n      <td>박호일</td>\n      <td>65</td>\n      <td>94</td>\n      <td>89</td>\n      <td>98</td>\n      <td>1</td>\n    </tr>\n    <tr>\n      <th>7</th>\n      <td>2</td>\n      <td>황유찬</td>\n      <td>89</td>\n      <td>98</td>\n      <td>78</td>\n      <td>78</td>\n      <td>2</td>\n    </tr>\n  </tbody>\n</table>\n</div>",
            "text/plain": "   번호   이름  국어  영어  수학  과학  반\n3   4  박호일  65  94  89  98  1\n7   2  황유찬  89  98  78  78  2"
          },
          "execution_count": 17,
          "metadata": {},
          "output_type": "execute_result"
        }
      ]
    },
    {
      "metadata": {
        "trusted": false
      },
      "cell_type": "code",
      "source": "# 컬럼 지정하기\nall_c[all_c['영어'] > 90]['이름']",
      "execution_count": 18,
      "outputs": [
        {
          "data": {
            "text/plain": "3    박호일\n7    황유찬\nName: 이름, dtype: object"
          },
          "execution_count": 18,
          "metadata": {},
          "output_type": "execute_result"
        }
      ]
    },
    {
      "metadata": {
        "trusted": false
      },
      "cell_type": "code",
      "source": "# 컬럼이 여러 개일때는 list로 지정해야 한다.\nall_c[all_c['영어'] > 90][['이름', '영어', '반']]",
      "execution_count": 19,
      "outputs": [
        {
          "data": {
            "text/html": "<div>\n<style>\n    .dataframe thead tr:only-child th {\n        text-align: right;\n    }\n\n    .dataframe thead th {\n        text-align: left;\n    }\n\n    .dataframe tbody tr th {\n        vertical-align: top;\n    }\n</style>\n<table border=\"1\" class=\"dataframe\">\n  <thead>\n    <tr style=\"text-align: right;\">\n      <th></th>\n      <th>이름</th>\n      <th>영어</th>\n      <th>반</th>\n    </tr>\n  </thead>\n  <tbody>\n    <tr>\n      <th>3</th>\n      <td>박호일</td>\n      <td>94</td>\n      <td>1</td>\n    </tr>\n    <tr>\n      <th>7</th>\n      <td>황유찬</td>\n      <td>98</td>\n      <td>2</td>\n    </tr>\n  </tbody>\n</table>\n</div>",
            "text/plain": "    이름  영어  반\n3  박호일  94  1\n7  황유찬  98  2"
          },
          "execution_count": 19,
          "metadata": {},
          "output_type": "execute_result"
        }
      ]
    },
    {
      "metadata": {
        "trusted": false
      },
      "cell_type": "code",
      "source": "all_c[:2]",
      "execution_count": 20,
      "outputs": [
        {
          "data": {
            "text/html": "<div>\n<style>\n    .dataframe thead tr:only-child th {\n        text-align: right;\n    }\n\n    .dataframe thead th {\n        text-align: left;\n    }\n\n    .dataframe tbody tr th {\n        vertical-align: top;\n    }\n</style>\n<table border=\"1\" class=\"dataframe\">\n  <thead>\n    <tr style=\"text-align: right;\">\n      <th></th>\n      <th>번호</th>\n      <th>이름</th>\n      <th>국어</th>\n      <th>영어</th>\n      <th>수학</th>\n      <th>과학</th>\n      <th>반</th>\n    </tr>\n  </thead>\n  <tbody>\n    <tr>\n      <th>0</th>\n      <td>1</td>\n      <td>한돌</td>\n      <td>67</td>\n      <td>87</td>\n      <td>90</td>\n      <td>98</td>\n      <td>1</td>\n    </tr>\n    <tr>\n      <th>1</th>\n      <td>2</td>\n      <td>김신</td>\n      <td>45</td>\n      <td>45</td>\n      <td>56</td>\n      <td>98</td>\n      <td>1</td>\n    </tr>\n  </tbody>\n</table>\n</div>",
            "text/plain": "   번호  이름  국어  영어  수학  과학  반\n0   1  한돌  67  87  90  98  1\n1   2  김신  45  45  56  98  1"
          },
          "execution_count": 20,
          "metadata": {},
          "output_type": "execute_result"
        }
      ]
    },
    {
      "metadata": {
        "trusted": false
      },
      "cell_type": "code",
      "source": "all_c[0:10]",
      "execution_count": 21,
      "outputs": [
        {
          "data": {
            "text/html": "<div>\n<style>\n    .dataframe thead tr:only-child th {\n        text-align: right;\n    }\n\n    .dataframe thead th {\n        text-align: left;\n    }\n\n    .dataframe tbody tr th {\n        vertical-align: top;\n    }\n</style>\n<table border=\"1\" class=\"dataframe\">\n  <thead>\n    <tr style=\"text-align: right;\">\n      <th></th>\n      <th>번호</th>\n      <th>이름</th>\n      <th>국어</th>\n      <th>영어</th>\n      <th>수학</th>\n      <th>과학</th>\n      <th>반</th>\n    </tr>\n  </thead>\n  <tbody>\n    <tr>\n      <th>0</th>\n      <td>1</td>\n      <td>한돌</td>\n      <td>67</td>\n      <td>87</td>\n      <td>90</td>\n      <td>98</td>\n      <td>1</td>\n    </tr>\n    <tr>\n      <th>1</th>\n      <td>2</td>\n      <td>김신</td>\n      <td>45</td>\n      <td>45</td>\n      <td>56</td>\n      <td>98</td>\n      <td>1</td>\n    </tr>\n    <tr>\n      <th>2</th>\n      <td>4</td>\n      <td>이영호</td>\n      <td>95</td>\n      <td>59</td>\n      <td>96</td>\n      <td>88</td>\n      <td>1</td>\n    </tr>\n    <tr>\n      <th>3</th>\n      <td>4</td>\n      <td>박호일</td>\n      <td>65</td>\n      <td>94</td>\n      <td>89</td>\n      <td>98</td>\n      <td>1</td>\n    </tr>\n    <tr>\n      <th>4</th>\n      <td>5</td>\n      <td>조영구</td>\n      <td>45</td>\n      <td>65</td>\n      <td>78</td>\n      <td>98</td>\n      <td>1</td>\n    </tr>\n    <tr>\n      <th>5</th>\n      <td>6</td>\n      <td>장호일</td>\n      <td>78</td>\n      <td>76</td>\n      <td>98</td>\n      <td>89</td>\n      <td>1</td>\n    </tr>\n    <tr>\n      <th>6</th>\n      <td>1</td>\n      <td>강교석</td>\n      <td>87</td>\n      <td>67</td>\n      <td>65</td>\n      <td>56</td>\n      <td>2</td>\n    </tr>\n    <tr>\n      <th>7</th>\n      <td>2</td>\n      <td>황유찬</td>\n      <td>89</td>\n      <td>98</td>\n      <td>78</td>\n      <td>78</td>\n      <td>2</td>\n    </tr>\n    <tr>\n      <th>8</th>\n      <td>3</td>\n      <td>유지명</td>\n      <td>100</td>\n      <td>78</td>\n      <td>56</td>\n      <td>65</td>\n      <td>2</td>\n    </tr>\n    <tr>\n      <th>9</th>\n      <td>4</td>\n      <td>송성필</td>\n      <td>99</td>\n      <td>89</td>\n      <td>87</td>\n      <td>87</td>\n      <td>2</td>\n    </tr>\n  </tbody>\n</table>\n</div>",
            "text/plain": "   번호   이름   국어  영어  수학  과학  반\n0   1   한돌   67  87  90  98  1\n1   2   김신   45  45  56  98  1\n2   4  이영호   95  59  96  88  1\n3   4  박호일   65  94  89  98  1\n4   5  조영구   45  65  78  98  1\n5   6  장호일   78  76  98  89  1\n6   1  강교석   87  67  65  56  2\n7   2  황유찬   89  98  78  78  2\n8   3  유지명  100  78  56  65  2\n9   4  송성필   99  89  87  87  2"
          },
          "execution_count": 21,
          "metadata": {},
          "output_type": "execute_result"
        }
      ]
    },
    {
      "metadata": {
        "trusted": false
      },
      "cell_type": "code",
      "source": "all_c.iloc[10]",
      "execution_count": 22,
      "outputs": [
        {
          "data": {
            "text/plain": "번호      5\n이름    주영훈\n국어     98\n영어     45\n수학     56\n과학     54\n반       2\nName: 10, dtype: object"
          },
          "execution_count": 22,
          "metadata": {},
          "output_type": "execute_result"
        }
      ]
    },
    {
      "metadata": {},
      "cell_type": "markdown",
      "source": "## pandas의 DataFrame, Series, Numpy의 ndarray"
    },
    {
      "metadata": {
        "trusted": false
      },
      "cell_type": "code",
      "source": "print(type(all_c))\nprint(type(all_c.수학))\nprint(type(all_c.수학.values))",
      "execution_count": 23,
      "outputs": [
        {
          "name": "stdout",
          "output_type": "stream",
          "text": "<class 'pandas.core.frame.DataFrame'>\n<class 'pandas.core.series.Series'>\n<class 'numpy.ndarray'>\n"
        }
      ]
    },
    {
      "metadata": {
        "trusted": false
      },
      "cell_type": "code",
      "source": "print(all_c.max()) \nprint()\nprint(all_c.수학.max())  # pandas,  df.max(), \nprint(all_c.수학.values.max()) # np.max()",
      "execution_count": 24,
      "outputs": [
        {
          "name": "stdout",
          "output_type": "stream",
          "text": "번호      6\n이름    황유찬\n국어    100\n영어     98\n수학     98\n과학     98\n반       2\ndtype: object\n\n98\n98\n"
        }
      ]
    },
    {
      "metadata": {
        "trusted": false
      },
      "cell_type": "code",
      "source": "all_c.values[:, 2:6]",
      "execution_count": 25,
      "outputs": [
        {
          "data": {
            "text/plain": "array([[67, 87, 90, 98],\n       [45, 45, 56, 98],\n       [95, 59, 96, 88],\n       [65, 94, 89, 98],\n       [45, 65, 78, 98],\n       [78, 76, 98, 89],\n       [87, 67, 65, 56],\n       [89, 98, 78, 78],\n       [100, 78, 56, 65],\n       [99, 89, 87, 87],\n       [98, 45, 56, 54],\n       [65, 89, 87, 78]], dtype=object)"
          },
          "execution_count": 25,
          "metadata": {},
          "output_type": "execute_result"
        }
      ]
    },
    {
      "metadata": {
        "trusted": false
      },
      "cell_type": "code",
      "source": "all_c.iloc[0].values",
      "execution_count": 26,
      "outputs": [
        {
          "data": {
            "text/plain": "array([1, '한돌', 67, 87, 90, 98, 1], dtype=object)"
          },
          "execution_count": 26,
          "metadata": {},
          "output_type": "execute_result"
        }
      ]
    },
    {
      "metadata": {
        "trusted": false
      },
      "cell_type": "code",
      "source": "all_c.iloc[0].values.shape",
      "execution_count": 27,
      "outputs": [
        {
          "data": {
            "text/plain": "(7,)"
          },
          "execution_count": 27,
          "metadata": {},
          "output_type": "execute_result"
        }
      ]
    },
    {
      "metadata": {
        "trusted": false
      },
      "cell_type": "code",
      "source": "all_c.values",
      "execution_count": 28,
      "outputs": [
        {
          "data": {
            "text/plain": "array([[1, '한돌', 67, 87, 90, 98, 1],\n       [2, '김신', 45, 45, 56, 98, 1],\n       [4, '이영호', 95, 59, 96, 88, 1],\n       [4, '박호일', 65, 94, 89, 98, 1],\n       [5, '조영구', 45, 65, 78, 98, 1],\n       [6, '장호일', 78, 76, 98, 89, 1],\n       [1, '강교석', 87, 67, 65, 56, 2],\n       [2, '황유찬', 89, 98, 78, 78, 2],\n       [3, '유지명', 100, 78, 56, 65, 2],\n       [4, '송성필', 99, 89, 87, 87, 2],\n       [5, '주영훈', 98, 45, 56, 54, 2],\n       [6, '변정수', 65, 89, 87, 78, 2]], dtype=object)"
          },
          "execution_count": 28,
          "metadata": {},
          "output_type": "execute_result"
        }
      ]
    },
    {
      "metadata": {
        "trusted": false
      },
      "cell_type": "code",
      "source": "all_c.values.shape[0]",
      "execution_count": 29,
      "outputs": [
        {
          "data": {
            "text/plain": "12"
          },
          "execution_count": 29,
          "metadata": {},
          "output_type": "execute_result"
        }
      ]
    },
    {
      "metadata": {
        "trusted": false
      },
      "cell_type": "code",
      "source": "all_c.번호.count()",
      "execution_count": 30,
      "outputs": [
        {
          "data": {
            "text/plain": "12"
          },
          "execution_count": 30,
          "metadata": {},
          "output_type": "execute_result"
        }
      ]
    },
    {
      "metadata": {
        "trusted": false
      },
      "cell_type": "code",
      "source": "",
      "execution_count": null,
      "outputs": []
    }
  ],
  "metadata": {
    "kernelspec": {
      "name": "python36",
      "display_name": "Python 3.6",
      "language": "python"
    },
    "language_info": {
      "mimetype": "text/x-python",
      "nbconvert_exporter": "python",
      "name": "python",
      "pygments_lexer": "ipython3",
      "version": "3.6.6",
      "file_extension": ".py",
      "codemirror_mode": {
        "version": 3,
        "name": "ipython"
      }
    }
  },
  "nbformat": 4,
  "nbformat_minor": 2
}