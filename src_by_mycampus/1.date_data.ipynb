{
  "cells": [
    {
      "metadata": {
        "trusted": true
      },
      "cell_type": "code",
      "source": "import pandas as pd\nimport numpy as np\n\n\n# read_csv()에서 encoding를 지정하지 않으면 'utf-8'로 간주한다. 즉, default=='utf-8'\n# csv 파일내에 'null' 문자열이 존재함 --> na_values 지정을 해결함.\ndf = pd.read_csv('1.date_data.csv'\n                 ,???='euc-kr'\n                 ,???=['null']\n                 ,dtype={'collect_date':str, \n                         '급기풍량':np.float64,   \n                         '환수유량': np.float64,   \n                         '환기온도':np.float64}\n                )\n\n",
      "execution_count": null,
      "outputs": []
    },
    {
      "metadata": {
        "trusted": true
      },
      "cell_type": "code",
      "source": "df.head()",
      "execution_count": null,
      "outputs": []
    },
    {
      "metadata": {
        "trusted": true
      },
      "cell_type": "code",
      "source": "df.describe()",
      "execution_count": null,
      "outputs": []
    },
    {
      "metadata": {},
      "cell_type": "markdown",
      "source": "### Date 연산, 처리\n#### strptime() - 문자열을 파싱해서 date타입으로 변환\n#### strftime() - date타입을 문자열로 변환"
    },
    {
      "metadata": {
        "trusted": true
      },
      "cell_type": "code",
      "source": "import datetime\n\nd = datetime.datetime.???('2019-01-23 19:30', '%Y-%m-%d %H:%M')\nprint(d)\nprint(d.weekday()) # 0==월요일, 5==토요일,6==일요일",
      "execution_count": null,
      "outputs": []
    },
    {
      "metadata": {
        "trusted": true
      },
      "cell_type": "code",
      "source": "print(d.strftime(\"%H시 %M분 %S초\"))\n",
      "execution_count": null,
      "outputs": []
    },
    {
      "metadata": {
        "trusted": true
      },
      "cell_type": "code",
      "source": "onehour = datetime.???(hours=1)\nprint(d + ????)\n",
      "execution_count": null,
      "outputs": []
    },
    {
      "metadata": {
        "trusted": true
      },
      "cell_type": "code",
      "source": "oneday = datetime.timedelta(days=1)\nprint(d+oneday)",
      "execution_count": null,
      "outputs": []
    },
    {
      "metadata": {
        "trusted": true
      },
      "cell_type": "code",
      "source": "for i in range(7):\n    print(d + datetime.timedelta(???=i))",
      "execution_count": null,
      "outputs": []
    },
    {
      "metadata": {},
      "cell_type": "markdown",
      "source": "###  요일 처리, 요일 이름을 한글로"
    },
    {
      "metadata": {
        "trusted": true
      },
      "cell_type": "code",
      "source": "# 'csv'파일의  첫번째 컬럼 이름이 'collect_date'로 되어 있다\n# 날짜 시간으로 부터 요일을 구하자\n\n# 일단 '2017-11-01 0:00' 문자열로부터 요일을 구하는 함수를 정의(define)한다.\n# def xxxx()는 함수를 정의하는 것. 함수가 실행되는 것은 아님.\ndef get_dayofweek_int(datestr):\n  # 파일내의 시간정보 포맷: 2017-11-01 0:00\n  dinfo = datetime.datetime.strptime(datestr, '%Y-%m-%d %H:%M')\n  # dinfo.weekday() 가 요일.  5==토요일,6==일요일,\n  # 아래의 print는 디버깅용. 실행할때는 comment out 하는 것이 좋음.\n  #print(datestr, '-->', dinfo.weekday())\n  return dinfo.weekday()",
      "execution_count": null,
      "outputs": []
    },
    {
      "metadata": {
        "trusted": true
      },
      "cell_type": "code",
      "source": "# 요일의 한글이름  \ndef get_dayofweek_hangul(datestr):\n  hangul_weekday = ['월', '화', '수', '목', '금', '토', '일'] \n  dinfo = datetime.datetime.strptime(datestr, '%Y-%m-%d %H:%M')\n  return hangul_weekday[dinfo.weekday()]",
      "execution_count": null,
      "outputs": []
    },
    {
      "metadata": {
        "trusted": true
      },
      "cell_type": "code",
      "source": "# 컬럼이 주어지면 그 컬럼의 min,max,std 출력\ndef print_info_column(col):\n  #print(type(col))\n  print('# 컬럼', col.name, end='\\t')\n  print('MAX: %.1f' % col.max(), end=' ')\n  print('MIN: %.1f' % col.min(), end=' ')\n  print('AVG: %.1f' % col.mean(), end=' ')\n  print('STD: %.1f' % col.std(), end='\\n')",
      "execution_count": null,
      "outputs": []
    },
    {
      "metadata": {},
      "cell_type": "markdown",
      "source": "### map() 활용 - 칼럼값에 대한 연산 수행\n#### 요일 컬럼을 새로 만든다\n"
    },
    {
      "metadata": {
        "trusted": true
      },
      "cell_type": "code",
      "source": "  \ndf.fillna(0)\ndf['DAYWEEK'] = df.collect_date.map(get_dayofweek_int)\ndf['요일'] = df.collect_date.???(????)\n",
      "execution_count": 52,
      "outputs": [
        {
          "output_type": "error",
          "ename": "SyntaxError",
          "evalue": "invalid syntax (<ipython-input-52-9dd42e763929>, line 4)",
          "traceback": [
            "\u001b[0;36m  File \u001b[0;32m\"<ipython-input-52-9dd42e763929>\"\u001b[0;36m, line \u001b[0;32m4\u001b[0m\n\u001b[0;31m    df['요일'] = df.collect_date.map(????)\u001b[0m\n\u001b[0m                                   ^\u001b[0m\n\u001b[0;31mSyntaxError\u001b[0m\u001b[0;31m:\u001b[0m invalid syntax\n"
          ]
        }
      ]
    },
    {
      "metadata": {
        "trusted": true
      },
      "cell_type": "code",
      "source": "df.head(10)",
      "execution_count": null,
      "outputs": []
    },
    {
      "metadata": {
        "trusted": true
      },
      "cell_type": "code",
      "source": "### 일요일만 출력해보자\ndf[df.??? == '일'].head()",
      "execution_count": null,
      "outputs": []
    },
    {
      "metadata": {
        "trusted": true
      },
      "cell_type": "code",
      "source": "df[df['???'] == '일'].head()",
      "execution_count": null,
      "outputs": []
    },
    {
      "metadata": {
        "trusted": true
      },
      "cell_type": "code",
      "source": "### 요일별로 해보자\nfor wday in hangul_weekday:\n  print('\\n## 요일:', wday)\n  # 특정 요일별\n  df_per_wday = df[ (df.요일 == wday) ]\n  print_info_column(df_per_wday.급기풍량)\n  print_info_column(df_per_wday.환수유량)\n\nprint_info_column(df_per_wday.환기온도)",
      "execution_count": null,
      "outputs": []
    },
    {
      "metadata": {
        "trusted": true
      },
      "cell_type": "code",
      "source": "import matplotlib.pyplot as plt\n## 요일별 라인을 그리기 위해.\ndef draw_lines(xypairs, title):\n  fig, ax = plt.subplots()\n  \n  for X, Y, label in xypairs:\n    ax.plot(X, Y, label=label)\n  ax.set_xlabel('X')\n  ax.set_ylabel('Y')\n  ax.set_title(title)\n  plt.legend()\n  plt.show()\n  \n\n### 요일별로 라인 차트 그려보자\n\n\nfig, ax = plt.subplots()\nfor i, wday in enumerate(hangul_weekday):\n  df_per_wday = df[ (df.요일 == wday) & (df.collect_date >= '2017-12-01') ]\n  ax.plot(df_per_wday.급기풍량.values, label=i)\n  \nplt.legend()\nplt.show()\n",
      "execution_count": null,
      "outputs": []
    },
    {
      "metadata": {
        "trusted": true
      },
      "cell_type": "code",
      "source": "",
      "execution_count": null,
      "outputs": []
    },
    {
      "metadata": {
        "trusted": true
      },
      "cell_type": "code",
      "source": "",
      "execution_count": null,
      "outputs": []
    }
  ],
  "metadata": {
    "kernelspec": {
      "name": "python36",
      "display_name": "Python 3.6",
      "language": "python"
    },
    "language_info": {
      "mimetype": "text/x-python",
      "nbconvert_exporter": "python",
      "name": "python",
      "pygments_lexer": "ipython3",
      "version": "3.6.6",
      "file_extension": ".py",
      "codemirror_mode": {
        "version": 3,
        "name": "ipython"
      }
    }
  },
  "nbformat": 4,
  "nbformat_minor": 2
}