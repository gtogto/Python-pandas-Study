{
  "cells": [
    {
      "metadata": {
        "trusted": true
      },
      "cell_type": "code",
      "source": "import numpy as np  ## 백터, 행렬 데이터 전문 모듈 numpy\nimport pandas as pd  ## 고수준 데이터 모델 (DataFrame) 모듈 pandas\nimport matplotlib.pyplot as plt  ## 차트 그리기 모듈 matplotlib\ndf = pd.read_csv('class1.csv', encoding='utf-8') # df : data frame \n# Data Frame - sheet class\n# Series - column class\n\nprint('칼럼이름들', list(df.columns) ) \n\nprint(df)\n",
      "execution_count": 1,
      "outputs": [
        {
          "output_type": "stream",
          "text": "칼럼이름들 ['번호', '이름', '국어', '영어', '수학', '과학']\n   번호   이름  국어  영어  수학  과학\n0   1   한돌  67  87  90  98\n1   2   김신  45  45  56  98\n2   3  이영호  95  59  96  88\n3   4  박호일  65  94  89  98\n4   5  조영구  45  65  78  98\n5   6  장호일  78  76  98  89\n",
          "name": "stdout"
        }
      ]
    },
    {
      "metadata": {
        "trusted": true
      },
      "cell_type": "code",
      "source": "df",
      "execution_count": 2,
      "outputs": [
        {
          "output_type": "execute_result",
          "execution_count": 2,
          "data": {
            "text/html": "<div>\n<style scoped>\n    .dataframe tbody tr th:only-of-type {\n        vertical-align: middle;\n    }\n\n    .dataframe tbody tr th {\n        vertical-align: top;\n    }\n\n    .dataframe thead th {\n        text-align: right;\n    }\n</style>\n<table border=\"1\" class=\"dataframe\">\n  <thead>\n    <tr style=\"text-align: right;\">\n      <th></th>\n      <th>번호</th>\n      <th>이름</th>\n      <th>국어</th>\n      <th>영어</th>\n      <th>수학</th>\n      <th>과학</th>\n    </tr>\n  </thead>\n  <tbody>\n    <tr>\n      <th>0</th>\n      <td>1</td>\n      <td>한돌</td>\n      <td>67</td>\n      <td>87</td>\n      <td>90</td>\n      <td>98</td>\n    </tr>\n    <tr>\n      <th>1</th>\n      <td>2</td>\n      <td>김신</td>\n      <td>45</td>\n      <td>45</td>\n      <td>56</td>\n      <td>98</td>\n    </tr>\n    <tr>\n      <th>2</th>\n      <td>3</td>\n      <td>이영호</td>\n      <td>95</td>\n      <td>59</td>\n      <td>96</td>\n      <td>88</td>\n    </tr>\n    <tr>\n      <th>3</th>\n      <td>4</td>\n      <td>박호일</td>\n      <td>65</td>\n      <td>94</td>\n      <td>89</td>\n      <td>98</td>\n    </tr>\n    <tr>\n      <th>4</th>\n      <td>5</td>\n      <td>조영구</td>\n      <td>45</td>\n      <td>65</td>\n      <td>78</td>\n      <td>98</td>\n    </tr>\n    <tr>\n      <th>5</th>\n      <td>6</td>\n      <td>장호일</td>\n      <td>78</td>\n      <td>76</td>\n      <td>98</td>\n      <td>89</td>\n    </tr>\n  </tbody>\n</table>\n</div>",
            "text/plain": "   번호   이름  국어  영어  수학  과학\n0   1   한돌  67  87  90  98\n1   2   김신  45  45  56  98\n2   3  이영호  95  59  96  88\n3   4  박호일  65  94  89  98\n4   5  조영구  45  65  78  98\n5   6  장호일  78  76  98  89"
          },
          "metadata": {}
        }
      ]
    },
    {
      "metadata": {
        "trusted": true
      },
      "cell_type": "code",
      "source": "df.index",
      "execution_count": 3,
      "outputs": [
        {
          "output_type": "execute_result",
          "execution_count": 3,
          "data": {
            "text/plain": "RangeIndex(start=0, stop=6, step=1)"
          },
          "metadata": {}
        }
      ]
    },
    {
      "metadata": {
        "trusted": true
      },
      "cell_type": "code",
      "source": "list(df.index)",
      "execution_count": 4,
      "outputs": [
        {
          "output_type": "execute_result",
          "execution_count": 4,
          "data": {
            "text/plain": "[0, 1, 2, 3, 4, 5]"
          },
          "metadata": {}
        }
      ]
    },
    {
      "metadata": {
        "trusted": true
      },
      "cell_type": "code",
      "source": "df.values # numpy array  형태",
      "execution_count": 5,
      "outputs": [
        {
          "output_type": "execute_result",
          "execution_count": 5,
          "data": {
            "text/plain": "array([[1, '한돌', 67, 87, 90, 98],\n       [2, '김신', 45, 45, 56, 98],\n       [3, '이영호', 95, 59, 96, 88],\n       [4, '박호일', 65, 94, 89, 98],\n       [5, '조영구', 45, 65, 78, 98],\n       [6, '장호일', 78, 76, 98, 89]], dtype=object)"
          },
          "metadata": {}
        }
      ]
    },
    {
      "metadata": {
        "trusted": true
      },
      "cell_type": "code",
      "source": "type(df.values) # 판다스 데이터를 numpy로 변환 (서로 변환가능)",
      "execution_count": 6,
      "outputs": [
        {
          "output_type": "execute_result",
          "execution_count": 6,
          "data": {
            "text/plain": "numpy.ndarray"
          },
          "metadata": {}
        }
      ]
    },
    {
      "metadata": {
        "trusted": true
      },
      "cell_type": "code",
      "source": "df.values[0, 2:] # 한돌의 과목별 점수 # 0번행의 2번칼럼",
      "execution_count": 7,
      "outputs": [
        {
          "output_type": "execute_result",
          "execution_count": 7,
          "data": {
            "text/plain": "array([67, 87, 90, 98], dtype=object)"
          },
          "metadata": {}
        }
      ]
    },
    {
      "metadata": {
        "trusted": true
      },
      "cell_type": "code",
      "source": "df",
      "execution_count": 8,
      "outputs": [
        {
          "output_type": "execute_result",
          "execution_count": 8,
          "data": {
            "text/html": "<div>\n<style scoped>\n    .dataframe tbody tr th:only-of-type {\n        vertical-align: middle;\n    }\n\n    .dataframe tbody tr th {\n        vertical-align: top;\n    }\n\n    .dataframe thead th {\n        text-align: right;\n    }\n</style>\n<table border=\"1\" class=\"dataframe\">\n  <thead>\n    <tr style=\"text-align: right;\">\n      <th></th>\n      <th>번호</th>\n      <th>이름</th>\n      <th>국어</th>\n      <th>영어</th>\n      <th>수학</th>\n      <th>과학</th>\n    </tr>\n  </thead>\n  <tbody>\n    <tr>\n      <th>0</th>\n      <td>1</td>\n      <td>한돌</td>\n      <td>67</td>\n      <td>87</td>\n      <td>90</td>\n      <td>98</td>\n    </tr>\n    <tr>\n      <th>1</th>\n      <td>2</td>\n      <td>김신</td>\n      <td>45</td>\n      <td>45</td>\n      <td>56</td>\n      <td>98</td>\n    </tr>\n    <tr>\n      <th>2</th>\n      <td>3</td>\n      <td>이영호</td>\n      <td>95</td>\n      <td>59</td>\n      <td>96</td>\n      <td>88</td>\n    </tr>\n    <tr>\n      <th>3</th>\n      <td>4</td>\n      <td>박호일</td>\n      <td>65</td>\n      <td>94</td>\n      <td>89</td>\n      <td>98</td>\n    </tr>\n    <tr>\n      <th>4</th>\n      <td>5</td>\n      <td>조영구</td>\n      <td>45</td>\n      <td>65</td>\n      <td>78</td>\n      <td>98</td>\n    </tr>\n    <tr>\n      <th>5</th>\n      <td>6</td>\n      <td>장호일</td>\n      <td>78</td>\n      <td>76</td>\n      <td>98</td>\n      <td>89</td>\n    </tr>\n  </tbody>\n</table>\n</div>",
            "text/plain": "   번호   이름  국어  영어  수학  과학\n0   1   한돌  67  87  90  98\n1   2   김신  45  45  56  98\n2   3  이영호  95  59  96  88\n3   4  박호일  65  94  89  98\n4   5  조영구  45  65  78  98\n5   6  장호일  78  76  98  89"
          },
          "metadata": {}
        }
      ]
    },
    {
      "metadata": {
        "trusted": true
      },
      "cell_type": "code",
      "source": "total = df.values[0, 2:].sum() # 한돌의 평균 점수\nprint('%s: %d, %.1f' % (df.values[0, 1], total, total/4))",
      "execution_count": 9,
      "outputs": [
        {
          "output_type": "stream",
          "text": "한돌: 342, 85.5\n",
          "name": "stdout"
        }
      ]
    },
    {
      "metadata": {
        "trusted": true
      },
      "cell_type": "code",
      "source": "np.sum(df.values[:, 2:], axis = 1)",
      "execution_count": 10,
      "outputs": [
        {
          "output_type": "execute_result",
          "execution_count": 10,
          "data": {
            "text/plain": "array([342, 244, 338, 346, 286, 341], dtype=object)"
          },
          "metadata": {}
        }
      ]
    },
    {
      "metadata": {
        "trusted": true
      },
      "cell_type": "code",
      "source": "np.sum(df.values[:, 2:], axis=0)",
      "execution_count": 14,
      "outputs": [
        {
          "output_type": "execute_result",
          "execution_count": 14,
          "data": {
            "text/plain": "array([395, 426, 507, 569], dtype=object)"
          },
          "metadata": {}
        }
      ]
    },
    {
      "metadata": {
        "trusted": true
      },
      "cell_type": "code",
      "source": "np.sum(df.values[:, 2:], axis = 0)",
      "execution_count": 12,
      "outputs": [
        {
          "output_type": "execute_result",
          "execution_count": 12,
          "data": {
            "text/plain": "array([395, 426, 507, 569], dtype=object)"
          },
          "metadata": {}
        }
      ]
    },
    {
      "metadata": {
        "trusted": true
      },
      "cell_type": "code",
      "source": "print(list(df.index))",
      "execution_count": 8,
      "outputs": [
        {
          "output_type": "stream",
          "text": "[0, 1, 2, 3, 4, 5]\n",
          "name": "stdout"
        }
      ]
    },
    {
      "metadata": {
        "trusted": true
      },
      "cell_type": "code",
      "source": "df.국어.sum()",
      "execution_count": 10,
      "outputs": [
        {
          "output_type": "execute_result",
          "execution_count": 10,
          "data": {
            "text/plain": "395"
          },
          "metadata": {}
        }
      ]
    },
    {
      "metadata": {
        "trusted": true
      },
      "cell_type": "code",
      "source": "df['국어']\nkuk = df[['국어']]\nprint(type(kuk))",
      "execution_count": 24,
      "outputs": [
        {
          "output_type": "stream",
          "text": "<class 'pandas.core.frame.DataFrame'>\n",
          "name": "stdout"
        }
      ]
    },
    {
      "metadata": {
        "trusted": true
      },
      "cell_type": "code",
      "source": "kuk",
      "execution_count": 25,
      "outputs": [
        {
          "output_type": "execute_result",
          "execution_count": 25,
          "data": {
            "text/html": "<div>\n<style scoped>\n    .dataframe tbody tr th:only-of-type {\n        vertical-align: middle;\n    }\n\n    .dataframe tbody tr th {\n        vertical-align: top;\n    }\n\n    .dataframe thead th {\n        text-align: right;\n    }\n</style>\n<table border=\"1\" class=\"dataframe\">\n  <thead>\n    <tr style=\"text-align: right;\">\n      <th></th>\n      <th>국어</th>\n    </tr>\n  </thead>\n  <tbody>\n    <tr>\n      <th>0</th>\n      <td>67</td>\n    </tr>\n    <tr>\n      <th>1</th>\n      <td>45</td>\n    </tr>\n    <tr>\n      <th>2</th>\n      <td>95</td>\n    </tr>\n    <tr>\n      <th>3</th>\n      <td>65</td>\n    </tr>\n    <tr>\n      <th>4</th>\n      <td>45</td>\n    </tr>\n    <tr>\n      <th>5</th>\n      <td>78</td>\n    </tr>\n  </tbody>\n</table>\n</div>",
            "text/plain": "   국어\n0  67\n1  45\n2  95\n3  65\n4  45\n5  78"
          },
          "metadata": {}
        }
      ]
    },
    {
      "metadata": {
        "trusted": true
      },
      "cell_type": "code",
      "source": "df['국어']\nkuk = df[['국어','수학']]\nprint(type(kuk))",
      "execution_count": 22,
      "outputs": [
        {
          "output_type": "stream",
          "text": "<class 'pandas.core.frame.DataFrame'>\n",
          "name": "stdout"
        }
      ]
    },
    {
      "metadata": {
        "trusted": true
      },
      "cell_type": "code",
      "source": "kuk",
      "execution_count": 23,
      "outputs": [
        {
          "output_type": "execute_result",
          "execution_count": 23,
          "data": {
            "text/html": "<div>\n<style scoped>\n    .dataframe tbody tr th:only-of-type {\n        vertical-align: middle;\n    }\n\n    .dataframe tbody tr th {\n        vertical-align: top;\n    }\n\n    .dataframe thead th {\n        text-align: right;\n    }\n</style>\n<table border=\"1\" class=\"dataframe\">\n  <thead>\n    <tr style=\"text-align: right;\">\n      <th></th>\n      <th>국어</th>\n      <th>수학</th>\n    </tr>\n  </thead>\n  <tbody>\n    <tr>\n      <th>0</th>\n      <td>67</td>\n      <td>90</td>\n    </tr>\n    <tr>\n      <th>1</th>\n      <td>45</td>\n      <td>56</td>\n    </tr>\n    <tr>\n      <th>2</th>\n      <td>95</td>\n      <td>96</td>\n    </tr>\n    <tr>\n      <th>3</th>\n      <td>65</td>\n      <td>89</td>\n    </tr>\n    <tr>\n      <th>4</th>\n      <td>45</td>\n      <td>78</td>\n    </tr>\n    <tr>\n      <th>5</th>\n      <td>78</td>\n      <td>98</td>\n    </tr>\n  </tbody>\n</table>\n</div>",
            "text/plain": "   국어  수학\n0  67  90\n1  45  56\n2  95  96\n3  65  89\n4  45  78\n5  78  98"
          },
          "metadata": {}
        }
      ]
    },
    {
      "metadata": {
        "trusted": true
      },
      "cell_type": "code",
      "source": "df[1:3] # 범위 지정은 가능 , but 특정 행은 불가능 ex) df[1]",
      "execution_count": 29,
      "outputs": [
        {
          "output_type": "execute_result",
          "execution_count": 29,
          "data": {
            "text/html": "<div>\n<style scoped>\n    .dataframe tbody tr th:only-of-type {\n        vertical-align: middle;\n    }\n\n    .dataframe tbody tr th {\n        vertical-align: top;\n    }\n\n    .dataframe thead th {\n        text-align: right;\n    }\n</style>\n<table border=\"1\" class=\"dataframe\">\n  <thead>\n    <tr style=\"text-align: right;\">\n      <th></th>\n      <th>번호</th>\n      <th>이름</th>\n      <th>국어</th>\n      <th>영어</th>\n      <th>수학</th>\n      <th>과학</th>\n    </tr>\n  </thead>\n  <tbody>\n    <tr>\n      <th>1</th>\n      <td>2</td>\n      <td>김신</td>\n      <td>45</td>\n      <td>45</td>\n      <td>56</td>\n      <td>98</td>\n    </tr>\n    <tr>\n      <th>2</th>\n      <td>3</td>\n      <td>이영호</td>\n      <td>95</td>\n      <td>59</td>\n      <td>96</td>\n      <td>88</td>\n    </tr>\n  </tbody>\n</table>\n</div>",
            "text/plain": "   번호   이름  국어  영어  수학  과학\n1   2   김신  45  45  56  98\n2   3  이영호  95  59  96  88"
          },
          "metadata": {}
        }
      ]
    },
    {
      "metadata": {
        "trusted": true
      },
      "cell_type": "code",
      "source": "df2 = df.sort_values(by='이름')\ndf2",
      "execution_count": 33,
      "outputs": [
        {
          "output_type": "execute_result",
          "execution_count": 33,
          "data": {
            "text/html": "<div>\n<style scoped>\n    .dataframe tbody tr th:only-of-type {\n        vertical-align: middle;\n    }\n\n    .dataframe tbody tr th {\n        vertical-align: top;\n    }\n\n    .dataframe thead th {\n        text-align: right;\n    }\n</style>\n<table border=\"1\" class=\"dataframe\">\n  <thead>\n    <tr style=\"text-align: right;\">\n      <th></th>\n      <th>번호</th>\n      <th>이름</th>\n      <th>국어</th>\n      <th>영어</th>\n      <th>수학</th>\n      <th>과학</th>\n    </tr>\n  </thead>\n  <tbody>\n    <tr>\n      <th>1</th>\n      <td>2</td>\n      <td>김신</td>\n      <td>45</td>\n      <td>45</td>\n      <td>56</td>\n      <td>98</td>\n    </tr>\n    <tr>\n      <th>3</th>\n      <td>4</td>\n      <td>박호일</td>\n      <td>65</td>\n      <td>94</td>\n      <td>89</td>\n      <td>98</td>\n    </tr>\n    <tr>\n      <th>2</th>\n      <td>3</td>\n      <td>이영호</td>\n      <td>95</td>\n      <td>59</td>\n      <td>96</td>\n      <td>88</td>\n    </tr>\n    <tr>\n      <th>5</th>\n      <td>6</td>\n      <td>장호일</td>\n      <td>78</td>\n      <td>76</td>\n      <td>98</td>\n      <td>89</td>\n    </tr>\n    <tr>\n      <th>4</th>\n      <td>5</td>\n      <td>조영구</td>\n      <td>45</td>\n      <td>65</td>\n      <td>78</td>\n      <td>98</td>\n    </tr>\n    <tr>\n      <th>0</th>\n      <td>1</td>\n      <td>한돌</td>\n      <td>67</td>\n      <td>87</td>\n      <td>90</td>\n      <td>98</td>\n    </tr>\n  </tbody>\n</table>\n</div>",
            "text/plain": "   번호   이름  국어  영어  수학  과학\n1   2   김신  45  45  56  98\n3   4  박호일  65  94  89  98\n2   3  이영호  95  59  96  88\n5   6  장호일  78  76  98  89\n4   5  조영구  45  65  78  98\n0   1   한돌  67  87  90  98"
          },
          "metadata": {}
        }
      ]
    },
    {
      "metadata": {
        "trusted": true
      },
      "cell_type": "code",
      "source": "df2[0:2]",
      "execution_count": 34,
      "outputs": [
        {
          "output_type": "execute_result",
          "execution_count": 34,
          "data": {
            "text/html": "<div>\n<style scoped>\n    .dataframe tbody tr th:only-of-type {\n        vertical-align: middle;\n    }\n\n    .dataframe tbody tr th {\n        vertical-align: top;\n    }\n\n    .dataframe thead th {\n        text-align: right;\n    }\n</style>\n<table border=\"1\" class=\"dataframe\">\n  <thead>\n    <tr style=\"text-align: right;\">\n      <th></th>\n      <th>번호</th>\n      <th>이름</th>\n      <th>국어</th>\n      <th>영어</th>\n      <th>수학</th>\n      <th>과학</th>\n    </tr>\n  </thead>\n  <tbody>\n    <tr>\n      <th>1</th>\n      <td>2</td>\n      <td>김신</td>\n      <td>45</td>\n      <td>45</td>\n      <td>56</td>\n      <td>98</td>\n    </tr>\n    <tr>\n      <th>3</th>\n      <td>4</td>\n      <td>박호일</td>\n      <td>65</td>\n      <td>94</td>\n      <td>89</td>\n      <td>98</td>\n    </tr>\n  </tbody>\n</table>\n</div>",
            "text/plain": "   번호   이름  국어  영어  수학  과학\n1   2   김신  45  45  56  98\n3   4  박호일  65  94  89  98"
          },
          "metadata": {}
        }
      ]
    },
    {
      "metadata": {
        "trusted": true
      },
      "cell_type": "code",
      "source": "df.sum()",
      "execution_count": 16,
      "outputs": [
        {
          "output_type": "execute_result",
          "execution_count": 16,
          "data": {
            "text/plain": "번호                  21\n이름    한돌김신이영호박호일조영구장호일\n국어                 395\n영어                 426\n수학                 507\n과학                 569\ndtype: object"
          },
          "metadata": {}
        }
      ]
    },
    {
      "metadata": {
        "trusted": true
      },
      "cell_type": "code",
      "source": "df2.loc[1:5] # location # index value에 따른 출력 #현재 sort한 기준",
      "execution_count": 44,
      "outputs": [
        {
          "output_type": "execute_result",
          "execution_count": 44,
          "data": {
            "text/html": "<div>\n<style scoped>\n    .dataframe tbody tr th:only-of-type {\n        vertical-align: middle;\n    }\n\n    .dataframe tbody tr th {\n        vertical-align: top;\n    }\n\n    .dataframe thead th {\n        text-align: right;\n    }\n</style>\n<table border=\"1\" class=\"dataframe\">\n  <thead>\n    <tr style=\"text-align: right;\">\n      <th></th>\n      <th>번호</th>\n      <th>이름</th>\n      <th>국어</th>\n      <th>영어</th>\n      <th>수학</th>\n      <th>과학</th>\n    </tr>\n  </thead>\n  <tbody>\n    <tr>\n      <th>1</th>\n      <td>2</td>\n      <td>김신</td>\n      <td>45</td>\n      <td>45</td>\n      <td>56</td>\n      <td>98</td>\n    </tr>\n    <tr>\n      <th>3</th>\n      <td>4</td>\n      <td>박호일</td>\n      <td>65</td>\n      <td>94</td>\n      <td>89</td>\n      <td>98</td>\n    </tr>\n    <tr>\n      <th>2</th>\n      <td>3</td>\n      <td>이영호</td>\n      <td>95</td>\n      <td>59</td>\n      <td>96</td>\n      <td>88</td>\n    </tr>\n    <tr>\n      <th>5</th>\n      <td>6</td>\n      <td>장호일</td>\n      <td>78</td>\n      <td>76</td>\n      <td>98</td>\n      <td>89</td>\n    </tr>\n  </tbody>\n</table>\n</div>",
            "text/plain": "   번호   이름  국어  영어  수학  과학\n1   2   김신  45  45  56  98\n3   4  박호일  65  94  89  98\n2   3  이영호  95  59  96  88\n5   6  장호일  78  76  98  89"
          },
          "metadata": {}
        }
      ]
    },
    {
      "metadata": {
        "trusted": true
      },
      "cell_type": "code",
      "source": "df2.iloc[1:5] # lnteger location # index value 관계 없이 출력",
      "execution_count": 42,
      "outputs": [
        {
          "output_type": "execute_result",
          "execution_count": 42,
          "data": {
            "text/html": "<div>\n<style scoped>\n    .dataframe tbody tr th:only-of-type {\n        vertical-align: middle;\n    }\n\n    .dataframe tbody tr th {\n        vertical-align: top;\n    }\n\n    .dataframe thead th {\n        text-align: right;\n    }\n</style>\n<table border=\"1\" class=\"dataframe\">\n  <thead>\n    <tr style=\"text-align: right;\">\n      <th></th>\n      <th>번호</th>\n      <th>이름</th>\n      <th>국어</th>\n      <th>영어</th>\n      <th>수학</th>\n      <th>과학</th>\n    </tr>\n  </thead>\n  <tbody>\n    <tr>\n      <th>3</th>\n      <td>4</td>\n      <td>박호일</td>\n      <td>65</td>\n      <td>94</td>\n      <td>89</td>\n      <td>98</td>\n    </tr>\n    <tr>\n      <th>2</th>\n      <td>3</td>\n      <td>이영호</td>\n      <td>95</td>\n      <td>59</td>\n      <td>96</td>\n      <td>88</td>\n    </tr>\n    <tr>\n      <th>5</th>\n      <td>6</td>\n      <td>장호일</td>\n      <td>78</td>\n      <td>76</td>\n      <td>98</td>\n      <td>89</td>\n    </tr>\n    <tr>\n      <th>4</th>\n      <td>5</td>\n      <td>조영구</td>\n      <td>45</td>\n      <td>65</td>\n      <td>78</td>\n      <td>98</td>\n    </tr>\n  </tbody>\n</table>\n</div>",
            "text/plain": "   번호   이름  국어  영어  수학  과학\n3   4  박호일  65  94  89  98\n2   3  이영호  95  59  96  88\n5   6  장호일  78  76  98  89\n4   5  조영구  45  65  78  98"
          },
          "metadata": {}
        }
      ]
    },
    {
      "metadata": {
        "trusted": true
      },
      "cell_type": "code",
      "source": "df.head()",
      "execution_count": 17,
      "outputs": [
        {
          "output_type": "execute_result",
          "execution_count": 17,
          "data": {
            "text/html": "<div>\n<style scoped>\n    .dataframe tbody tr th:only-of-type {\n        vertical-align: middle;\n    }\n\n    .dataframe tbody tr th {\n        vertical-align: top;\n    }\n\n    .dataframe thead th {\n        text-align: right;\n    }\n</style>\n<table border=\"1\" class=\"dataframe\">\n  <thead>\n    <tr style=\"text-align: right;\">\n      <th></th>\n      <th>번호</th>\n      <th>이름</th>\n      <th>국어</th>\n      <th>영어</th>\n      <th>수학</th>\n      <th>과학</th>\n    </tr>\n  </thead>\n  <tbody>\n    <tr>\n      <th>0</th>\n      <td>1</td>\n      <td>한돌</td>\n      <td>67</td>\n      <td>87</td>\n      <td>90</td>\n      <td>98</td>\n    </tr>\n    <tr>\n      <th>1</th>\n      <td>2</td>\n      <td>김신</td>\n      <td>45</td>\n      <td>45</td>\n      <td>56</td>\n      <td>98</td>\n    </tr>\n    <tr>\n      <th>2</th>\n      <td>3</td>\n      <td>이영호</td>\n      <td>95</td>\n      <td>59</td>\n      <td>96</td>\n      <td>88</td>\n    </tr>\n    <tr>\n      <th>3</th>\n      <td>4</td>\n      <td>박호일</td>\n      <td>65</td>\n      <td>94</td>\n      <td>89</td>\n      <td>98</td>\n    </tr>\n    <tr>\n      <th>4</th>\n      <td>5</td>\n      <td>조영구</td>\n      <td>45</td>\n      <td>65</td>\n      <td>78</td>\n      <td>98</td>\n    </tr>\n  </tbody>\n</table>\n</div>",
            "text/plain": "   번호   이름  국어  영어  수학  과학\n0   1   한돌  67  87  90  98\n1   2   김신  45  45  56  98\n2   3  이영호  95  59  96  88\n3   4  박호일  65  94  89  98\n4   5  조영구  45  65  78  98"
          },
          "metadata": {}
        }
      ]
    },
    {
      "metadata": {
        "trusted": true
      },
      "cell_type": "code",
      "source": "kuk = df[['국어']]\nprint(type(kuk))\n",
      "execution_count": 11,
      "outputs": [
        {
          "output_type": "stream",
          "text": "<class 'pandas.core.frame.DataFrame'>\n",
          "name": "stdout"
        }
      ]
    },
    {
      "metadata": {
        "trusted": true
      },
      "cell_type": "code",
      "source": "df.describe()",
      "execution_count": 18,
      "outputs": [
        {
          "output_type": "execute_result",
          "execution_count": 18,
          "data": {
            "text/html": "<div>\n<style scoped>\n    .dataframe tbody tr th:only-of-type {\n        vertical-align: middle;\n    }\n\n    .dataframe tbody tr th {\n        vertical-align: top;\n    }\n\n    .dataframe thead th {\n        text-align: right;\n    }\n</style>\n<table border=\"1\" class=\"dataframe\">\n  <thead>\n    <tr style=\"text-align: right;\">\n      <th></th>\n      <th>번호</th>\n      <th>국어</th>\n      <th>영어</th>\n      <th>수학</th>\n      <th>과학</th>\n    </tr>\n  </thead>\n  <tbody>\n    <tr>\n      <th>count</th>\n      <td>6.000000</td>\n      <td>6.000000</td>\n      <td>6.000000</td>\n      <td>6.000000</td>\n      <td>6.000000</td>\n    </tr>\n    <tr>\n      <th>mean</th>\n      <td>3.500000</td>\n      <td>65.833333</td>\n      <td>71.000000</td>\n      <td>84.500000</td>\n      <td>94.833333</td>\n    </tr>\n    <tr>\n      <th>std</th>\n      <td>1.870829</td>\n      <td>19.333046</td>\n      <td>18.253767</td>\n      <td>15.617298</td>\n      <td>4.915960</td>\n    </tr>\n    <tr>\n      <th>min</th>\n      <td>1.000000</td>\n      <td>45.000000</td>\n      <td>45.000000</td>\n      <td>56.000000</td>\n      <td>88.000000</td>\n    </tr>\n    <tr>\n      <th>25%</th>\n      <td>2.250000</td>\n      <td>50.000000</td>\n      <td>60.500000</td>\n      <td>80.750000</td>\n      <td>91.250000</td>\n    </tr>\n    <tr>\n      <th>50%</th>\n      <td>3.500000</td>\n      <td>66.000000</td>\n      <td>70.500000</td>\n      <td>89.500000</td>\n      <td>98.000000</td>\n    </tr>\n    <tr>\n      <th>75%</th>\n      <td>4.750000</td>\n      <td>75.250000</td>\n      <td>84.250000</td>\n      <td>94.500000</td>\n      <td>98.000000</td>\n    </tr>\n    <tr>\n      <th>max</th>\n      <td>6.000000</td>\n      <td>95.000000</td>\n      <td>94.000000</td>\n      <td>98.000000</td>\n      <td>98.000000</td>\n    </tr>\n  </tbody>\n</table>\n</div>",
            "text/plain": "             번호         국어         영어         수학         과학\ncount  6.000000   6.000000   6.000000   6.000000   6.000000\nmean   3.500000  65.833333  71.000000  84.500000  94.833333\nstd    1.870829  19.333046  18.253767  15.617298   4.915960\nmin    1.000000  45.000000  45.000000  56.000000  88.000000\n25%    2.250000  50.000000  60.500000  80.750000  91.250000\n50%    3.500000  66.000000  70.500000  89.500000  98.000000\n75%    4.750000  75.250000  84.250000  94.500000  98.000000\nmax    6.000000  95.000000  94.000000  98.000000  98.000000"
          },
          "metadata": {}
        }
      ]
    },
    {
      "metadata": {
        "trusted": true
      },
      "cell_type": "code",
      "source": "df[0:5]\ndf['국어']",
      "execution_count": 12,
      "outputs": [
        {
          "output_type": "execute_result",
          "execution_count": 12,
          "data": {
            "text/plain": "0    67\n1    45\n2    95\n3    65\n4    45\n5    78\nName: 국어, dtype: int64"
          },
          "metadata": {}
        }
      ]
    },
    {
      "metadata": {
        "trusted": true
      },
      "cell_type": "code",
      "source": "print(type(df.loc[5]))\nprint(df.loc[5])",
      "execution_count": 15,
      "outputs": [
        {
          "output_type": "stream",
          "text": "<class 'pandas.core.series.Series'>\n번호      6\n이름    장호일\n국어     78\n영어     76\n수학     98\n과학     89\nName: 5, dtype: object\n",
          "name": "stdout"
        }
      ]
    },
    {
      "metadata": {
        "trusted": true
      },
      "cell_type": "code",
      "source": "print(type(df.iloc[5]))\nprint(df.iloc[5])",
      "execution_count": 14,
      "outputs": [
        {
          "output_type": "stream",
          "text": "<class 'pandas.core.series.Series'>\n번호      6\n이름    장호일\n국어     78\n영어     76\n수학     98\n과학     89\nName: 5, dtype: object\n",
          "name": "stdout"
        }
      ]
    },
    {
      "metadata": {},
      "cell_type": "markdown",
      "source": "### 조건으로 필터링하기"
    },
    {
      "metadata": {
        "trusted": true
      },
      "cell_type": "code",
      "source": "df[df.국어 >= 70]",
      "execution_count": 45,
      "outputs": [
        {
          "output_type": "execute_result",
          "execution_count": 45,
          "data": {
            "text/html": "<div>\n<style scoped>\n    .dataframe tbody tr th:only-of-type {\n        vertical-align: middle;\n    }\n\n    .dataframe tbody tr th {\n        vertical-align: top;\n    }\n\n    .dataframe thead th {\n        text-align: right;\n    }\n</style>\n<table border=\"1\" class=\"dataframe\">\n  <thead>\n    <tr style=\"text-align: right;\">\n      <th></th>\n      <th>번호</th>\n      <th>이름</th>\n      <th>국어</th>\n      <th>영어</th>\n      <th>수학</th>\n      <th>과학</th>\n    </tr>\n  </thead>\n  <tbody>\n    <tr>\n      <th>2</th>\n      <td>3</td>\n      <td>이영호</td>\n      <td>95</td>\n      <td>59</td>\n      <td>96</td>\n      <td>88</td>\n    </tr>\n    <tr>\n      <th>5</th>\n      <td>6</td>\n      <td>장호일</td>\n      <td>78</td>\n      <td>76</td>\n      <td>98</td>\n      <td>89</td>\n    </tr>\n  </tbody>\n</table>\n</div>",
            "text/plain": "   번호   이름  국어  영어  수학  과학\n2   3  이영호  95  59  96  88\n5   6  장호일  78  76  98  89"
          },
          "metadata": {}
        }
      ]
    },
    {
      "metadata": {
        "trusted": true
      },
      "cell_type": "code",
      "source": "df[(df.국어 >= 70) | (df.영어 >= 70)] # and, or 할때는 괄호 표시",
      "execution_count": 46,
      "outputs": [
        {
          "output_type": "execute_result",
          "execution_count": 46,
          "data": {
            "text/html": "<div>\n<style scoped>\n    .dataframe tbody tr th:only-of-type {\n        vertical-align: middle;\n    }\n\n    .dataframe tbody tr th {\n        vertical-align: top;\n    }\n\n    .dataframe thead th {\n        text-align: right;\n    }\n</style>\n<table border=\"1\" class=\"dataframe\">\n  <thead>\n    <tr style=\"text-align: right;\">\n      <th></th>\n      <th>번호</th>\n      <th>이름</th>\n      <th>국어</th>\n      <th>영어</th>\n      <th>수학</th>\n      <th>과학</th>\n    </tr>\n  </thead>\n  <tbody>\n    <tr>\n      <th>0</th>\n      <td>1</td>\n      <td>한돌</td>\n      <td>67</td>\n      <td>87</td>\n      <td>90</td>\n      <td>98</td>\n    </tr>\n    <tr>\n      <th>2</th>\n      <td>3</td>\n      <td>이영호</td>\n      <td>95</td>\n      <td>59</td>\n      <td>96</td>\n      <td>88</td>\n    </tr>\n    <tr>\n      <th>3</th>\n      <td>4</td>\n      <td>박호일</td>\n      <td>65</td>\n      <td>94</td>\n      <td>89</td>\n      <td>98</td>\n    </tr>\n    <tr>\n      <th>5</th>\n      <td>6</td>\n      <td>장호일</td>\n      <td>78</td>\n      <td>76</td>\n      <td>98</td>\n      <td>89</td>\n    </tr>\n  </tbody>\n</table>\n</div>",
            "text/plain": "   번호   이름  국어  영어  수학  과학\n0   1   한돌  67  87  90  98\n2   3  이영호  95  59  96  88\n3   4  박호일  65  94  89  98\n5   6  장호일  78  76  98  89"
          },
          "metadata": {}
        }
      ]
    },
    {
      "metadata": {
        "trusted": true
      },
      "cell_type": "code",
      "source": "df.query(\"국어 >= 70 & 영어 >= 70\") # db query와 비슷",
      "execution_count": 47,
      "outputs": [
        {
          "output_type": "execute_result",
          "execution_count": 47,
          "data": {
            "text/html": "<div>\n<style scoped>\n    .dataframe tbody tr th:only-of-type {\n        vertical-align: middle;\n    }\n\n    .dataframe tbody tr th {\n        vertical-align: top;\n    }\n\n    .dataframe thead th {\n        text-align: right;\n    }\n</style>\n<table border=\"1\" class=\"dataframe\">\n  <thead>\n    <tr style=\"text-align: right;\">\n      <th></th>\n      <th>번호</th>\n      <th>이름</th>\n      <th>국어</th>\n      <th>영어</th>\n      <th>수학</th>\n      <th>과학</th>\n    </tr>\n  </thead>\n  <tbody>\n    <tr>\n      <th>5</th>\n      <td>6</td>\n      <td>장호일</td>\n      <td>78</td>\n      <td>76</td>\n      <td>98</td>\n      <td>89</td>\n    </tr>\n  </tbody>\n</table>\n</div>",
            "text/plain": "   번호   이름  국어  영어  수학  과학\n5   6  장호일  78  76  98  89"
          },
          "metadata": {}
        }
      ]
    },
    {
      "metadata": {
        "trusted": true
      },
      "cell_type": "code",
      "source": "df[['국어', '영어']]",
      "execution_count": 48,
      "outputs": [
        {
          "output_type": "execute_result",
          "execution_count": 48,
          "data": {
            "text/html": "<div>\n<style scoped>\n    .dataframe tbody tr th:only-of-type {\n        vertical-align: middle;\n    }\n\n    .dataframe tbody tr th {\n        vertical-align: top;\n    }\n\n    .dataframe thead th {\n        text-align: right;\n    }\n</style>\n<table border=\"1\" class=\"dataframe\">\n  <thead>\n    <tr style=\"text-align: right;\">\n      <th></th>\n      <th>국어</th>\n      <th>영어</th>\n    </tr>\n  </thead>\n  <tbody>\n    <tr>\n      <th>0</th>\n      <td>67</td>\n      <td>87</td>\n    </tr>\n    <tr>\n      <th>1</th>\n      <td>45</td>\n      <td>45</td>\n    </tr>\n    <tr>\n      <th>2</th>\n      <td>95</td>\n      <td>59</td>\n    </tr>\n    <tr>\n      <th>3</th>\n      <td>65</td>\n      <td>94</td>\n    </tr>\n    <tr>\n      <th>4</th>\n      <td>45</td>\n      <td>65</td>\n    </tr>\n    <tr>\n      <th>5</th>\n      <td>78</td>\n      <td>76</td>\n    </tr>\n  </tbody>\n</table>\n</div>",
            "text/plain": "   국어  영어\n0  67  87\n1  45  45\n2  95  59\n3  65  94\n4  45  65\n5  78  76"
          },
          "metadata": {}
        }
      ]
    },
    {
      "metadata": {
        "trusted": true
      },
      "cell_type": "code",
      "source": "subjects = ['국어', '영어', '수학', '과학']\n\ndf[subjects].sum(axis=0) # 각 행 합계\nprint(df[subjects].sum(axis=0))\nnum_st = df.국어.count() #정상값만 count//null 값 X\nprint(df[subjects].sum(axis=0) / num_st)\nprint(df[subjects].max(axis=0)) #과목별 최고점\n\n",
      "execution_count": 49,
      "outputs": [
        {
          "output_type": "stream",
          "text": "국어    395\n영어    426\n수학    507\n과학    569\ndtype: int64\n국어    65.833333\n영어    71.000000\n수학    84.500000\n과학    94.833333\ndtype: float64\n국어    95\n영어    94\n수학    98\n과학    98\ndtype: int64\n",
          "name": "stdout"
        }
      ]
    },
    {
      "metadata": {
        "trusted": true
      },
      "cell_type": "code",
      "source": "df['개인별과목합'] = df[subjects].sum(axis=1) # 각 열 계산\ndf['개인별평균'] = df['개인별과목합'] / len(subjects)\ndf['개인별최고점'] = df[subjects].max(axis=1)\ndf",
      "execution_count": 55,
      "outputs": [
        {
          "output_type": "execute_result",
          "execution_count": 55,
          "data": {
            "text/html": "<div>\n<style scoped>\n    .dataframe tbody tr th:only-of-type {\n        vertical-align: middle;\n    }\n\n    .dataframe tbody tr th {\n        vertical-align: top;\n    }\n\n    .dataframe thead th {\n        text-align: right;\n    }\n</style>\n<table border=\"1\" class=\"dataframe\">\n  <thead>\n    <tr style=\"text-align: right;\">\n      <th></th>\n      <th>번호</th>\n      <th>이름</th>\n      <th>국어</th>\n      <th>영어</th>\n      <th>수학</th>\n      <th>과학</th>\n      <th>총점</th>\n      <th>평균</th>\n      <th>최고점</th>\n      <th>개인별과목총점</th>\n      <th>개인별평균</th>\n      <th>개인별최고점</th>\n      <th>개인별과목합</th>\n    </tr>\n  </thead>\n  <tbody>\n    <tr>\n      <th>0</th>\n      <td>1</td>\n      <td>한돌</td>\n      <td>67</td>\n      <td>87</td>\n      <td>90</td>\n      <td>98</td>\n      <td>342</td>\n      <td>85.50</td>\n      <td>98</td>\n      <td>342</td>\n      <td>85.50</td>\n      <td>98</td>\n      <td>342</td>\n    </tr>\n    <tr>\n      <th>1</th>\n      <td>2</td>\n      <td>김신</td>\n      <td>45</td>\n      <td>45</td>\n      <td>56</td>\n      <td>98</td>\n      <td>244</td>\n      <td>61.00</td>\n      <td>98</td>\n      <td>244</td>\n      <td>61.00</td>\n      <td>98</td>\n      <td>244</td>\n    </tr>\n    <tr>\n      <th>2</th>\n      <td>3</td>\n      <td>이영호</td>\n      <td>95</td>\n      <td>59</td>\n      <td>96</td>\n      <td>88</td>\n      <td>338</td>\n      <td>84.50</td>\n      <td>96</td>\n      <td>338</td>\n      <td>84.50</td>\n      <td>96</td>\n      <td>338</td>\n    </tr>\n    <tr>\n      <th>3</th>\n      <td>4</td>\n      <td>박호일</td>\n      <td>65</td>\n      <td>94</td>\n      <td>89</td>\n      <td>98</td>\n      <td>346</td>\n      <td>86.50</td>\n      <td>98</td>\n      <td>346</td>\n      <td>86.50</td>\n      <td>98</td>\n      <td>346</td>\n    </tr>\n    <tr>\n      <th>4</th>\n      <td>5</td>\n      <td>조영구</td>\n      <td>45</td>\n      <td>65</td>\n      <td>78</td>\n      <td>98</td>\n      <td>286</td>\n      <td>71.50</td>\n      <td>98</td>\n      <td>286</td>\n      <td>71.50</td>\n      <td>98</td>\n      <td>286</td>\n    </tr>\n    <tr>\n      <th>5</th>\n      <td>6</td>\n      <td>장호일</td>\n      <td>78</td>\n      <td>76</td>\n      <td>98</td>\n      <td>89</td>\n      <td>341</td>\n      <td>85.25</td>\n      <td>98</td>\n      <td>341</td>\n      <td>85.25</td>\n      <td>98</td>\n      <td>341</td>\n    </tr>\n  </tbody>\n</table>\n</div>",
            "text/plain": "   번호   이름  국어  영어  수학  과학   총점     평균  최고점  개인별과목총점  개인별평균  개인별최고점  개인별과목합\n0   1   한돌  67  87  90  98  342  85.50   98      342  85.50      98     342\n1   2   김신  45  45  56  98  244  61.00   98      244  61.00      98     244\n2   3  이영호  95  59  96  88  338  84.50   96      338  84.50      96     338\n3   4  박호일  65  94  89  98  346  86.50   98      346  86.50      98     346\n4   5  조영구  45  65  78  98  286  71.50   98      286  71.50      98     286\n5   6  장호일  78  76  98  89  341  85.25   98      341  85.25      98     341"
          },
          "metadata": {}
        }
      ]
    },
    {
      "metadata": {
        "trusted": true
      },
      "cell_type": "code",
      "source": "#df[['수학']]\nprint(type(df.수학))\nprint(type(df['수학']))\nprint(type(df[['수학']]))",
      "execution_count": null,
      "outputs": []
    },
    {
      "metadata": {
        "trusted": true
      },
      "cell_type": "code",
      "source": "print('=== 성적순')\ndf2 = df.sort_values(['영어', '수학'], ascending=[False, False])\n\ndf2\n",
      "execution_count": 56,
      "outputs": [
        {
          "output_type": "stream",
          "text": "=== 성적순\n",
          "name": "stdout"
        },
        {
          "output_type": "execute_result",
          "execution_count": 56,
          "data": {
            "text/html": "<div>\n<style scoped>\n    .dataframe tbody tr th:only-of-type {\n        vertical-align: middle;\n    }\n\n    .dataframe tbody tr th {\n        vertical-align: top;\n    }\n\n    .dataframe thead th {\n        text-align: right;\n    }\n</style>\n<table border=\"1\" class=\"dataframe\">\n  <thead>\n    <tr style=\"text-align: right;\">\n      <th></th>\n      <th>번호</th>\n      <th>이름</th>\n      <th>국어</th>\n      <th>영어</th>\n      <th>수학</th>\n      <th>과학</th>\n      <th>총점</th>\n      <th>평균</th>\n      <th>최고점</th>\n      <th>개인별과목총점</th>\n      <th>개인별평균</th>\n      <th>개인별최고점</th>\n      <th>개인별과목합</th>\n    </tr>\n  </thead>\n  <tbody>\n    <tr>\n      <th>3</th>\n      <td>4</td>\n      <td>박호일</td>\n      <td>65</td>\n      <td>94</td>\n      <td>89</td>\n      <td>98</td>\n      <td>346</td>\n      <td>86.50</td>\n      <td>98</td>\n      <td>346</td>\n      <td>86.50</td>\n      <td>98</td>\n      <td>346</td>\n    </tr>\n    <tr>\n      <th>0</th>\n      <td>1</td>\n      <td>한돌</td>\n      <td>67</td>\n      <td>87</td>\n      <td>90</td>\n      <td>98</td>\n      <td>342</td>\n      <td>85.50</td>\n      <td>98</td>\n      <td>342</td>\n      <td>85.50</td>\n      <td>98</td>\n      <td>342</td>\n    </tr>\n    <tr>\n      <th>5</th>\n      <td>6</td>\n      <td>장호일</td>\n      <td>78</td>\n      <td>76</td>\n      <td>98</td>\n      <td>89</td>\n      <td>341</td>\n      <td>85.25</td>\n      <td>98</td>\n      <td>341</td>\n      <td>85.25</td>\n      <td>98</td>\n      <td>341</td>\n    </tr>\n    <tr>\n      <th>4</th>\n      <td>5</td>\n      <td>조영구</td>\n      <td>45</td>\n      <td>65</td>\n      <td>78</td>\n      <td>98</td>\n      <td>286</td>\n      <td>71.50</td>\n      <td>98</td>\n      <td>286</td>\n      <td>71.50</td>\n      <td>98</td>\n      <td>286</td>\n    </tr>\n    <tr>\n      <th>2</th>\n      <td>3</td>\n      <td>이영호</td>\n      <td>95</td>\n      <td>59</td>\n      <td>96</td>\n      <td>88</td>\n      <td>338</td>\n      <td>84.50</td>\n      <td>96</td>\n      <td>338</td>\n      <td>84.50</td>\n      <td>96</td>\n      <td>338</td>\n    </tr>\n    <tr>\n      <th>1</th>\n      <td>2</td>\n      <td>김신</td>\n      <td>45</td>\n      <td>45</td>\n      <td>56</td>\n      <td>98</td>\n      <td>244</td>\n      <td>61.00</td>\n      <td>98</td>\n      <td>244</td>\n      <td>61.00</td>\n      <td>98</td>\n      <td>244</td>\n    </tr>\n  </tbody>\n</table>\n</div>",
            "text/plain": "   번호   이름  국어  영어  수학  과학   총점     평균  최고점  개인별과목총점  개인별평균  개인별최고점  개인별과목합\n3   4  박호일  65  94  89  98  346  86.50   98      346  86.50      98     346\n0   1   한돌  67  87  90  98  342  85.50   98      342  85.50      98     342\n5   6  장호일  78  76  98  89  341  85.25   98      341  85.25      98     341\n4   5  조영구  45  65  78  98  286  71.50   98      286  71.50      98     286\n2   3  이영호  95  59  96  88  338  84.50   96      338  84.50      96     338\n1   2   김신  45  45  56  98  244  61.00   98      244  61.00      98     244"
          },
          "metadata": {}
        }
      ]
    },
    {
      "metadata": {
        "trusted": true
      },
      "cell_type": "code",
      "source": "print('=== 성적순')\ndf2 = df.sort_values(by='개인별총합', assending=[True])\n\ndf2",
      "execution_count": 60,
      "outputs": [
        {
          "output_type": "stream",
          "text": "=== 성적순\n",
          "name": "stdout"
        },
        {
          "output_type": "error",
          "ename": "TypeError",
          "evalue": "sort_values() got an unexpected keyword argument 'assending'",
          "traceback": [
            "\u001b[0;31m---------------------------------------------------------------------------\u001b[0m",
            "\u001b[0;31mTypeError\u001b[0m                                 Traceback (most recent call last)",
            "\u001b[0;32m<ipython-input-60-e1a0439111ab>\u001b[0m in \u001b[0;36m<module>\u001b[0;34m\u001b[0m\n\u001b[1;32m      1\u001b[0m \u001b[0mprint\u001b[0m\u001b[0;34m(\u001b[0m\u001b[0;34m'=== 성적순'\u001b[0m\u001b[0;34m)\u001b[0m\u001b[0;34m\u001b[0m\u001b[0m\n\u001b[0;32m----> 2\u001b[0;31m \u001b[0mdf2\u001b[0m \u001b[0;34m=\u001b[0m \u001b[0mdf\u001b[0m\u001b[0;34m.\u001b[0m\u001b[0msort_values\u001b[0m\u001b[0;34m(\u001b[0m\u001b[0mby\u001b[0m\u001b[0;34m=\u001b[0m\u001b[0;34m'개인별총합'\u001b[0m\u001b[0;34m,\u001b[0m \u001b[0massending\u001b[0m\u001b[0;34m=\u001b[0m\u001b[0;34m[\u001b[0m\u001b[0;32mTrue\u001b[0m\u001b[0;34m]\u001b[0m\u001b[0;34m)\u001b[0m\u001b[0;34m\u001b[0m\u001b[0m\n\u001b[0m\u001b[1;32m      3\u001b[0m \u001b[0;34m\u001b[0m\u001b[0m\n\u001b[1;32m      4\u001b[0m \u001b[0mdf2\u001b[0m\u001b[0;34m\u001b[0m\u001b[0m\n",
            "\u001b[0;31mTypeError\u001b[0m: sort_values() got an unexpected keyword argument 'assending'"
          ]
        }
      ]
    },
    {
      "metadata": {
        "trusted": true
      },
      "cell_type": "code",
      "source": "# 완전 새롭게 index reset, 정렬\ndf2.reset_index(inplace=True, drop=True) \ndf2",
      "execution_count": 58,
      "outputs": [
        {
          "output_type": "execute_result",
          "execution_count": 58,
          "data": {
            "text/html": "<div>\n<style scoped>\n    .dataframe tbody tr th:only-of-type {\n        vertical-align: middle;\n    }\n\n    .dataframe tbody tr th {\n        vertical-align: top;\n    }\n\n    .dataframe thead th {\n        text-align: right;\n    }\n</style>\n<table border=\"1\" class=\"dataframe\">\n  <thead>\n    <tr style=\"text-align: right;\">\n      <th></th>\n      <th>번호</th>\n      <th>이름</th>\n      <th>국어</th>\n      <th>영어</th>\n      <th>수학</th>\n      <th>과학</th>\n      <th>총점</th>\n      <th>평균</th>\n      <th>최고점</th>\n      <th>개인별과목총점</th>\n      <th>개인별평균</th>\n      <th>개인별최고점</th>\n      <th>개인별과목합</th>\n    </tr>\n  </thead>\n  <tbody>\n    <tr>\n      <th>0</th>\n      <td>4</td>\n      <td>박호일</td>\n      <td>65</td>\n      <td>94</td>\n      <td>89</td>\n      <td>98</td>\n      <td>346</td>\n      <td>86.50</td>\n      <td>98</td>\n      <td>346</td>\n      <td>86.50</td>\n      <td>98</td>\n      <td>346</td>\n    </tr>\n    <tr>\n      <th>1</th>\n      <td>1</td>\n      <td>한돌</td>\n      <td>67</td>\n      <td>87</td>\n      <td>90</td>\n      <td>98</td>\n      <td>342</td>\n      <td>85.50</td>\n      <td>98</td>\n      <td>342</td>\n      <td>85.50</td>\n      <td>98</td>\n      <td>342</td>\n    </tr>\n    <tr>\n      <th>2</th>\n      <td>6</td>\n      <td>장호일</td>\n      <td>78</td>\n      <td>76</td>\n      <td>98</td>\n      <td>89</td>\n      <td>341</td>\n      <td>85.25</td>\n      <td>98</td>\n      <td>341</td>\n      <td>85.25</td>\n      <td>98</td>\n      <td>341</td>\n    </tr>\n    <tr>\n      <th>3</th>\n      <td>5</td>\n      <td>조영구</td>\n      <td>45</td>\n      <td>65</td>\n      <td>78</td>\n      <td>98</td>\n      <td>286</td>\n      <td>71.50</td>\n      <td>98</td>\n      <td>286</td>\n      <td>71.50</td>\n      <td>98</td>\n      <td>286</td>\n    </tr>\n    <tr>\n      <th>4</th>\n      <td>3</td>\n      <td>이영호</td>\n      <td>95</td>\n      <td>59</td>\n      <td>96</td>\n      <td>88</td>\n      <td>338</td>\n      <td>84.50</td>\n      <td>96</td>\n      <td>338</td>\n      <td>84.50</td>\n      <td>96</td>\n      <td>338</td>\n    </tr>\n    <tr>\n      <th>5</th>\n      <td>2</td>\n      <td>김신</td>\n      <td>45</td>\n      <td>45</td>\n      <td>56</td>\n      <td>98</td>\n      <td>244</td>\n      <td>61.00</td>\n      <td>98</td>\n      <td>244</td>\n      <td>61.00</td>\n      <td>98</td>\n      <td>244</td>\n    </tr>\n  </tbody>\n</table>\n</div>",
            "text/plain": "   번호   이름  국어  영어  수학  과학   총점     평균  최고점  개인별과목총점  개인별평균  개인별최고점  개인별과목합\n0   4  박호일  65  94  89  98  346  86.50   98      346  86.50      98     346\n1   1   한돌  67  87  90  98  342  85.50   98      342  85.50      98     342\n2   6  장호일  78  76  98  89  341  85.25   98      341  85.25      98     341\n3   5  조영구  45  65  78  98  286  71.50   98      286  71.50      98     286\n4   3  이영호  95  59  96  88  338  84.50   96      338  84.50      96     338\n5   2   김신  45  45  56  98  244  61.00   98      244  61.00      98     244"
          },
          "metadata": {}
        }
      ]
    },
    {
      "metadata": {
        "trusted": true
      },
      "cell_type": "code",
      "source": "df2\ndf2.drop(['총점'], axis=1, inplace=True) # calumn delete\ndf2",
      "execution_count": 61,
      "outputs": [
        {
          "output_type": "execute_result",
          "execution_count": 61,
          "data": {
            "text/html": "<div>\n<style scoped>\n    .dataframe tbody tr th:only-of-type {\n        vertical-align: middle;\n    }\n\n    .dataframe tbody tr th {\n        vertical-align: top;\n    }\n\n    .dataframe thead th {\n        text-align: right;\n    }\n</style>\n<table border=\"1\" class=\"dataframe\">\n  <thead>\n    <tr style=\"text-align: right;\">\n      <th></th>\n      <th>번호</th>\n      <th>이름</th>\n      <th>국어</th>\n      <th>영어</th>\n      <th>수학</th>\n      <th>과학</th>\n      <th>평균</th>\n      <th>최고점</th>\n      <th>개인별과목총점</th>\n      <th>개인별평균</th>\n      <th>개인별최고점</th>\n      <th>개인별과목합</th>\n    </tr>\n  </thead>\n  <tbody>\n    <tr>\n      <th>0</th>\n      <td>4</td>\n      <td>박호일</td>\n      <td>65</td>\n      <td>94</td>\n      <td>89</td>\n      <td>98</td>\n      <td>86.50</td>\n      <td>98</td>\n      <td>346</td>\n      <td>86.50</td>\n      <td>98</td>\n      <td>346</td>\n    </tr>\n    <tr>\n      <th>1</th>\n      <td>1</td>\n      <td>한돌</td>\n      <td>67</td>\n      <td>87</td>\n      <td>90</td>\n      <td>98</td>\n      <td>85.50</td>\n      <td>98</td>\n      <td>342</td>\n      <td>85.50</td>\n      <td>98</td>\n      <td>342</td>\n    </tr>\n    <tr>\n      <th>2</th>\n      <td>6</td>\n      <td>장호일</td>\n      <td>78</td>\n      <td>76</td>\n      <td>98</td>\n      <td>89</td>\n      <td>85.25</td>\n      <td>98</td>\n      <td>341</td>\n      <td>85.25</td>\n      <td>98</td>\n      <td>341</td>\n    </tr>\n    <tr>\n      <th>3</th>\n      <td>5</td>\n      <td>조영구</td>\n      <td>45</td>\n      <td>65</td>\n      <td>78</td>\n      <td>98</td>\n      <td>71.50</td>\n      <td>98</td>\n      <td>286</td>\n      <td>71.50</td>\n      <td>98</td>\n      <td>286</td>\n    </tr>\n    <tr>\n      <th>4</th>\n      <td>3</td>\n      <td>이영호</td>\n      <td>95</td>\n      <td>59</td>\n      <td>96</td>\n      <td>88</td>\n      <td>84.50</td>\n      <td>96</td>\n      <td>338</td>\n      <td>84.50</td>\n      <td>96</td>\n      <td>338</td>\n    </tr>\n    <tr>\n      <th>5</th>\n      <td>2</td>\n      <td>김신</td>\n      <td>45</td>\n      <td>45</td>\n      <td>56</td>\n      <td>98</td>\n      <td>61.00</td>\n      <td>98</td>\n      <td>244</td>\n      <td>61.00</td>\n      <td>98</td>\n      <td>244</td>\n    </tr>\n  </tbody>\n</table>\n</div>",
            "text/plain": "   번호   이름  국어  영어  수학  과학     평균  최고점  개인별과목총점  개인별평균  개인별최고점  개인별과목합\n0   4  박호일  65  94  89  98  86.50   98      346  86.50      98     346\n1   1   한돌  67  87  90  98  85.50   98      342  85.50      98     342\n2   6  장호일  78  76  98  89  85.25   98      341  85.25      98     341\n3   5  조영구  45  65  78  98  71.50   98      286  71.50      98     286\n4   3  이영호  95  59  96  88  84.50   96      338  84.50      96     338\n5   2   김신  45  45  56  98  61.00   98      244  61.00      98     244"
          },
          "metadata": {}
        }
      ]
    },
    {
      "metadata": {
        "trusted": true
      },
      "cell_type": "code",
      "source": "df2[['이름', '평균']]",
      "execution_count": 62,
      "outputs": [
        {
          "output_type": "execute_result",
          "execution_count": 62,
          "data": {
            "text/html": "<div>\n<style scoped>\n    .dataframe tbody tr th:only-of-type {\n        vertical-align: middle;\n    }\n\n    .dataframe tbody tr th {\n        vertical-align: top;\n    }\n\n    .dataframe thead th {\n        text-align: right;\n    }\n</style>\n<table border=\"1\" class=\"dataframe\">\n  <thead>\n    <tr style=\"text-align: right;\">\n      <th></th>\n      <th>이름</th>\n      <th>평균</th>\n    </tr>\n  </thead>\n  <tbody>\n    <tr>\n      <th>0</th>\n      <td>박호일</td>\n      <td>86.50</td>\n    </tr>\n    <tr>\n      <th>1</th>\n      <td>한돌</td>\n      <td>85.50</td>\n    </tr>\n    <tr>\n      <th>2</th>\n      <td>장호일</td>\n      <td>85.25</td>\n    </tr>\n    <tr>\n      <th>3</th>\n      <td>조영구</td>\n      <td>71.50</td>\n    </tr>\n    <tr>\n      <th>4</th>\n      <td>이영호</td>\n      <td>84.50</td>\n    </tr>\n    <tr>\n      <th>5</th>\n      <td>김신</td>\n      <td>61.00</td>\n    </tr>\n  </tbody>\n</table>\n</div>",
            "text/plain": "    이름     평균\n0  박호일  86.50\n1   한돌  85.50\n2  장호일  85.25\n3  조영구  71.50\n4  이영호  84.50\n5   김신  61.00"
          },
          "metadata": {}
        }
      ]
    },
    {
      "metadata": {
        "trusted": true
      },
      "cell_type": "code",
      "source": "df2.to_csv('sorted_class1_gto.csv', encoding='utf-8', index=False) #save file",
      "execution_count": 65,
      "outputs": []
    },
    {
      "metadata": {
        "trusted": true
      },
      "cell_type": "code",
      "source": "df2.to_csv('sorted_class1_gto.csv', encoding='utf-8', index=True) #",
      "execution_count": 66,
      "outputs": []
    },
    {
      "metadata": {
        "trusted": true
      },
      "cell_type": "code",
      "source": "",
      "execution_count": null,
      "outputs": []
    }
  ],
  "metadata": {
    "kernelspec": {
      "name": "python36",
      "display_name": "Python 3.6",
      "language": "python"
    },
    "language_info": {
      "mimetype": "text/x-python",
      "nbconvert_exporter": "python",
      "name": "python",
      "pygments_lexer": "ipython3",
      "version": "3.6.6",
      "file_extension": ".py",
      "codemirror_mode": {
        "version": 3,
        "name": "ipython"
      }
    }
  },
  "nbformat": 4,
  "nbformat_minor": 2
}