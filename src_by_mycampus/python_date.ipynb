{
  "cells": [
    {
      "cell_type": "code",
      "execution_count": 1,
      "metadata": {},
      "outputs": [],
      "source": [
        "import time\n",
        "import datetime\n"
      ]
    },
    {
      "cell_type": "code",
      "execution_count": 2,
      "metadata": {},
      "outputs": [
        {
          "name": "stdout",
          "output_type": "stream",
          "text": [
            "2018-03-25\n",
            "2018-03-25\n"
          ]
        },
        {
          "data": {
            "text/plain": [
              "'2018-03-25 00:00:00'"
            ]
          },
          "execution_count": 2,
          "metadata": {},
          "output_type": "execute_result"
        }
      ],
      "source": [
        "print(datetime.date.today())\n",
        "print(datetime.date.today().isoformat())\n",
        "today = datetime.date.today()\n",
        "today.strftime('%Y-%m-%d %H:%M:%S')"
      ]
    },
    {
      "cell_type": "code",
      "execution_count": 3,
      "metadata": {},
      "outputs": [
        {
          "name": "stdout",
          "output_type": "stream",
          "text": [
            "2018-02-07 06:03:36.053447\n",
            "2018-02-07T06:03:36.054310\n"
          ]
        },
        {
          "data": {
            "text/plain": [
              "'2018-02-07 06:03:36'"
            ]
          },
          "execution_count": 3,
          "metadata": {},
          "output_type": "execute_result"
        }
      ],
      "source": [
        "print(datetime.datetime.now())\n",
        "print(datetime.datetime.now().isoformat())\n",
        "now = datetime.datetime.now()\n",
        "now.strftime('%Y-%m-%d %H:%M:%S')#today = datetime.date.fromtimestamp(time.time())\n"
      ]
    },
    {
      "cell_type": "code",
      "execution_count": 4,
      "metadata": {},
      "outputs": [],
      "source": [
        "#today = datetime.date.fromtimestamp(time.time())"
      ]
    },
    {
      "cell_type": "code",
      "execution_count": 5,
      "metadata": {},
      "outputs": [
        {
          "name": "stdout",
          "output_type": "stream",
          "text": [
            "2018-02-01 | 2018-02-01\n",
            "2018-02-02 | 2018-02-02\n",
            "2018-02-03 | 2018-02-03\n",
            "2018-02-04 | 2018-02-04\n",
            "2018-02-05 | 2018-02-05\n",
            "2018-02-06 | 2018-02-06\n"
          ]
        }
      ],
      "source": [
        "oneday = datetime.timedelta(days=1)\n",
        "startday = datetime.date(2018, 2, 1)\n",
        "today = datetime.date.today()\n",
        "while startday < today:\n",
        "    print(startday, '|', startday.isoformat())\n",
        "    startday += oneday\n",
        "\n"
      ]
    },
    {
      "cell_type": "code",
      "execution_count": 6,
      "metadata": {},
      "outputs": [
        {
          "name": "stdout",
          "output_type": "stream",
          "text": [
            "2018-02-06 11:00:00 | 2018-02-06 11:00:00\n",
            "2018-02-06 12:00:00 | 2018-02-06 12:00:00\n",
            "2018-02-06 13:00:00 | 2018-02-06 13:00:00\n",
            "2018-02-06 14:00:00 | 2018-02-06 14:00:00\n",
            "2018-02-06 15:00:00 | 2018-02-06 15:00:00\n",
            "2018-02-06 16:00:00 | 2018-02-06 16:00:00\n",
            "2018-02-06 17:00:00 | 2018-02-06 17:00:00\n",
            "2018-02-06 18:00:00 | 2018-02-06 18:00:00\n",
            "2018-02-06 19:00:00 | 2018-02-06 19:00:00\n",
            "2018-02-06 20:00:00 | 2018-02-06 20:00:00\n",
            "2018-02-06 21:00:00 | 2018-02-06 21:00:00\n",
            "2018-02-06 22:00:00 | 2018-02-06 22:00:00\n",
            "2018-02-06 23:00:00 | 2018-02-06 23:00:00\n",
            "2018-02-07 00:00:00 | 2018-02-07 00:00:00\n",
            "2018-02-07 01:00:00 | 2018-02-07 01:00:00\n",
            "2018-02-07 02:00:00 | 2018-02-07 02:00:00\n",
            "2018-02-07 03:00:00 | 2018-02-07 03:00:00\n",
            "2018-02-07 04:00:00 | 2018-02-07 04:00:00\n",
            "2018-02-07 05:00:00 | 2018-02-07 05:00:00\n",
            "2018-02-07 06:00:00 | 2018-02-07 06:00:00\n"
          ]
        }
      ],
      "source": [
        "onehour = datetime.timedelta(hours=1)\n",
        "startday = datetime.datetime(2018, 2, 6, hour=11)\n",
        "today = datetime.datetime.today()\n",
        "\n",
        "while startday < today:\n",
        "    print(startday, '|', startday.strftime('%Y-%m-%d %H:%M:%S'))\n",
        "    startday += onehour \n"
      ]
    },
    {
      "cell_type": "markdown",
      "metadata": {},
      "source": [
        "## 문자열에서 date로"
      ]
    },
    {
      "cell_type": "code",
      "execution_count": 7,
      "metadata": {},
      "outputs": [
        {
          "name": "stdout",
          "output_type": "stream",
          "text": [
            "2018-02-07 02:00:00\n"
          ]
        }
      ],
      "source": [
        "datestr = '2018-02-07 02:00:00'\n",
        "dval = datetime.datetime.strptime(datestr, \"%Y-%m-%d %H:%M:%S\")\n",
        "print(dval)"
      ]
    },
    {
      "cell_type": "code",
      "execution_count": 8,
      "metadata": {},
      "outputs": [
        {
          "name": "stdout",
          "output_type": "stream",
          "text": [
            "2018/02/07 02:00:00\n"
          ]
        }
      ],
      "source": [
        "print(dval.strftime('%Y/%m/%d %H:%M:%S'))"
      ]
    },
    {
      "cell_type": "code",
      "execution_count": 9,
      "metadata": {},
      "outputs": [
        {
          "name": "stdout",
          "output_type": "stream",
          "text": [
            "2018-02-07 02:00:00\n"
          ]
        }
      ],
      "source": [
        "print(dval)"
      ]
    },
    {
      "cell_type": "code",
      "execution_count": 11,
      "metadata": {},
      "outputs": [
        {
          "name": "stdout",
          "output_type": "stream",
          "text": [
            "2 2 7\n"
          ]
        }
      ],
      "source": [
        "print(dval.weekday(), dval.month, dval.day)"
      ]
    },
    {
      "cell_type": "code",
      "execution_count": null,
      "metadata": {},
      "outputs": [],
      "source": []
    }
  ],
  "metadata": {
    "kernelspec": {
      "display_name": "Python 3.6",
      "language": "python",
      "name": "python36"
    },
    "language_info": {
      "codemirror_mode": {
        "name": "ipython",
        "version": 3
      },
      "file_extension": ".py",
      "mimetype": "text/x-python",
      "name": "python",
      "nbconvert_exporter": "python",
      "pygments_lexer": "ipython3",
      "version": "3.6.3"
    }
  },
  "nbformat": 4,
  "nbformat_minor": 2
}